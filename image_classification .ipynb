{
 "cells": [
  {
   "cell_type": "markdown",
   "metadata": {},
   "source": [
    "# Image classification"
   ]
  },
  {
   "cell_type": "code",
   "execution_count": 2,
   "metadata": {},
   "outputs": [
    {
     "name": "stderr",
     "output_type": "stream",
     "text": [
      "2022-09-17 15:14:00.046728: I tensorflow/core/platform/cpu_feature_guard.cc:193] This TensorFlow binary is optimized with oneAPI Deep Neural Network Library (oneDNN) to use the following CPU instructions in performance-critical operations:  AVX2 FMA\n",
      "To enable them in other operations, rebuild TensorFlow with the appropriate compiler flags.\n"
     ]
    }
   ],
   "source": [
    "import pandas as pd\n",
    "import numpy as np\n",
    "import regex\n",
    "import requests\n",
    "import unidecode\n",
    "import numpy as np\n",
    "import os, glob\n",
    "import cv2\n",
    "import plotly.express as px\n",
    "import matplotlib.pyplot as plt\n",
    "from tqdm import tqdm\n",
    "import shutil, sys\n",
    "import urllib.request \n",
    "import PIL\n",
    "import tensorflow as tf\n",
    "import keras\n",
    "from keras.layers.core import Dense\n",
    "from tensorflow.keras.models import Sequential\n",
    "from tensorflow.keras.optimizers import Adam,SGD"
   ]
  },
  {
   "cell_type": "code",
   "execution_count": 3,
   "metadata": {},
   "outputs": [],
   "source": [
    "from IPython.display import Image\n",
    "from keras.preprocessing import image \n",
    "from keras import optimizers,layers, models,regularizers   \n",
    "from keras.applications.imagenet_utils import preprocess_input\n",
    "from keras.preprocessing.image import ImageDataGenerator \n",
    "from keras.applications.vgg16 import VGG16"
   ]
  },
  {
   "cell_type": "code",
   "execution_count": 10,
   "metadata": {},
   "outputs": [],
   "source": [
    "from keras.layers import Dense, Conv2D, MaxPool2D , Flatten, Dropout\n",
    "from keras.preprocessing.image import ImageDataGenerator\n"
   ]
  },
  {
   "cell_type": "code",
   "execution_count": 3,
   "metadata": {
    "scrolled": true
   },
   "outputs": [
    {
     "name": "stdout",
     "output_type": "stream",
     "text": [
      "Requirement already satisfied: pandas in /Users/adelaidazuluaga/.pyenv/versions/3.10.5/lib/python3.10/site-packages (1.4.4)\n",
      "Requirement already satisfied: python-dateutil>=2.8.1 in /Users/adelaidazuluaga/.pyenv/versions/3.10.5/lib/python3.10/site-packages (from pandas) (2.8.2)\n",
      "Requirement already satisfied: pytz>=2020.1 in /Users/adelaidazuluaga/.pyenv/versions/3.10.5/lib/python3.10/site-packages (from pandas) (2022.2.1)\n",
      "Requirement already satisfied: numpy>=1.21.0 in /Users/adelaidazuluaga/.pyenv/versions/3.10.5/lib/python3.10/site-packages (from pandas) (1.23.0)\n",
      "Requirement already satisfied: six>=1.5 in /Users/adelaidazuluaga/.pyenv/versions/3.10.5/lib/python3.10/site-packages (from python-dateutil>=2.8.1->pandas) (1.16.0)\n",
      "Requirement already satisfied: opencv-python in /Users/adelaidazuluaga/.pyenv/versions/3.10.5/lib/python3.10/site-packages (4.6.0.66)\n",
      "Requirement already satisfied: numpy>=1.14.5 in /Users/adelaidazuluaga/.pyenv/versions/3.10.5/lib/python3.10/site-packages (from opencv-python) (1.23.0)\n",
      "Requirement already satisfied: plotly==5.10.0 in /Users/adelaidazuluaga/.pyenv/versions/3.10.5/lib/python3.10/site-packages (5.10.0)\n",
      "Requirement already satisfied: tenacity>=6.2.0 in /Users/adelaidazuluaga/.pyenv/versions/3.10.5/lib/python3.10/site-packages (from plotly==5.10.0) (8.0.1)\n",
      "Requirement already satisfied: pillow in /Users/adelaidazuluaga/.pyenv/versions/3.10.5/lib/python3.10/site-packages (9.2.0)\n",
      "Requirement already satisfied: regex in /Users/adelaidazuluaga/.pyenv/versions/3.10.5/lib/python3.10/site-packages (2022.9.11)\n",
      "Requirement already satisfied: Unidecode in /Users/adelaidazuluaga/.pyenv/versions/3.10.5/lib/python3.10/site-packages (1.3.4)\n",
      "Requirement already satisfied: wordcloud in /Users/adelaidazuluaga/.pyenv/versions/3.10.5/lib/python3.10/site-packages (1.8.2.2)\n",
      "Requirement already satisfied: numpy>=1.6.1 in /Users/adelaidazuluaga/.pyenv/versions/3.10.5/lib/python3.10/site-packages (from wordcloud) (1.23.0)\n",
      "Requirement already satisfied: matplotlib in /Users/adelaidazuluaga/.pyenv/versions/3.10.5/lib/python3.10/site-packages (from wordcloud) (3.5.3)\n",
      "Requirement already satisfied: pillow in /Users/adelaidazuluaga/.pyenv/versions/3.10.5/lib/python3.10/site-packages (from wordcloud) (9.2.0)\n",
      "Requirement already satisfied: packaging>=20.0 in /Users/adelaidazuluaga/.pyenv/versions/3.10.5/lib/python3.10/site-packages (from matplotlib->wordcloud) (21.3)\n",
      "Requirement already satisfied: pyparsing>=2.2.1 in /Users/adelaidazuluaga/.pyenv/versions/3.10.5/lib/python3.10/site-packages (from matplotlib->wordcloud) (3.0.9)\n",
      "Requirement already satisfied: cycler>=0.10 in /Users/adelaidazuluaga/.pyenv/versions/3.10.5/lib/python3.10/site-packages (from matplotlib->wordcloud) (0.11.0)\n",
      "Requirement already satisfied: kiwisolver>=1.0.1 in /Users/adelaidazuluaga/.pyenv/versions/3.10.5/lib/python3.10/site-packages (from matplotlib->wordcloud) (1.4.4)\n",
      "Requirement already satisfied: fonttools>=4.22.0 in /Users/adelaidazuluaga/.pyenv/versions/3.10.5/lib/python3.10/site-packages (from matplotlib->wordcloud) (4.37.1)\n",
      "Requirement already satisfied: python-dateutil>=2.7 in /Users/adelaidazuluaga/.pyenv/versions/3.10.5/lib/python3.10/site-packages (from matplotlib->wordcloud) (2.8.2)\n",
      "Requirement already satisfied: six>=1.5 in /Users/adelaidazuluaga/.pyenv/versions/3.10.5/lib/python3.10/site-packages (from python-dateutil>=2.7->matplotlib->wordcloud) (1.16.0)\n",
      "Requirement already satisfied: nltk in /Users/adelaidazuluaga/.pyenv/versions/3.10.5/lib/python3.10/site-packages (3.7)\n",
      "Requirement already satisfied: tqdm in /Users/adelaidazuluaga/.pyenv/versions/3.10.5/lib/python3.10/site-packages (from nltk) (4.64.1)\n",
      "Requirement already satisfied: joblib in /Users/adelaidazuluaga/.pyenv/versions/3.10.5/lib/python3.10/site-packages (from nltk) (1.1.0)\n",
      "Requirement already satisfied: regex>=2021.8.3 in /Users/adelaidazuluaga/.pyenv/versions/3.10.5/lib/python3.10/site-packages (from nltk) (2022.9.11)\n",
      "Requirement already satisfied: click in /Users/adelaidazuluaga/.pyenv/versions/3.10.5/lib/python3.10/site-packages (from nltk) (8.1.3)\n",
      "Requirement already satisfied: matplotlib in /Users/adelaidazuluaga/.pyenv/versions/3.10.5/lib/python3.10/site-packages (3.5.3)\n",
      "Requirement already satisfied: kiwisolver>=1.0.1 in /Users/adelaidazuluaga/.pyenv/versions/3.10.5/lib/python3.10/site-packages (from matplotlib) (1.4.4)\n",
      "Requirement already satisfied: cycler>=0.10 in /Users/adelaidazuluaga/.pyenv/versions/3.10.5/lib/python3.10/site-packages (from matplotlib) (0.11.0)\n",
      "Requirement already satisfied: numpy>=1.17 in /Users/adelaidazuluaga/.pyenv/versions/3.10.5/lib/python3.10/site-packages (from matplotlib) (1.23.0)\n",
      "Requirement already satisfied: fonttools>=4.22.0 in /Users/adelaidazuluaga/.pyenv/versions/3.10.5/lib/python3.10/site-packages (from matplotlib) (4.37.1)\n",
      "Requirement already satisfied: packaging>=20.0 in /Users/adelaidazuluaga/.pyenv/versions/3.10.5/lib/python3.10/site-packages (from matplotlib) (21.3)\n",
      "Requirement already satisfied: pyparsing>=2.2.1 in /Users/adelaidazuluaga/.pyenv/versions/3.10.5/lib/python3.10/site-packages (from matplotlib) (3.0.9)\n",
      "Requirement already satisfied: pillow>=6.2.0 in /Users/adelaidazuluaga/.pyenv/versions/3.10.5/lib/python3.10/site-packages (from matplotlib) (9.2.0)\n",
      "Requirement already satisfied: python-dateutil>=2.7 in /Users/adelaidazuluaga/.pyenv/versions/3.10.5/lib/python3.10/site-packages (from matplotlib) (2.8.2)\n",
      "Requirement already satisfied: six>=1.5 in /Users/adelaidazuluaga/.pyenv/versions/3.10.5/lib/python3.10/site-packages (from python-dateutil>=2.7->matplotlib) (1.16.0)\n"
     ]
    }
   ],
   "source": [
    "!pip install pandas \n",
    "!pip install opencv-python\n",
    "!pip install plotly==5.10.0\n",
    "!pip install pillow\n",
    "!pip install regex\n",
    "!pip install Unidecode\n",
    "!pip install wordcloud\n",
    "!pip install nltk\n",
    "!pip install matplotlib"
   ]
  },
  {
   "cell_type": "markdown",
   "metadata": {},
   "source": [
    "Multiple nets: https://medium.com/analytics-vidhya/multi-class-image-classification-using-transfer-learning-with-deep-convolutional-neural-networks-eab051cde3fb\n"
   ]
  },
  {
   "cell_type": "markdown",
   "metadata": {},
   "source": [
    "Current tutorial: https://www.kaggle.com/code/shahules/getting-started-with-cnn-and-vgg16 "
   ]
  },
  {
   "cell_type": "markdown",
   "metadata": {},
   "source": [
    "# Inception V3"
   ]
  },
  {
   "cell_type": "code",
   "execution_count": 29,
   "metadata": {},
   "outputs": [
    {
     "name": "stdout",
     "output_type": "stream",
     "text": [
      "Found 22362 images belonging to 32 classes.\n",
      "Found 4793 images belonging to 32 classes.\n"
     ]
    }
   ],
   "source": [
    "trdata = ImageDataGenerator()\n",
    "traindata = trdata.flow_from_directory(\"images_train/\",class_mode='categorical',batch_size=64,target_size=(150,150))\n",
    "tsdata = ImageDataGenerator()\n",
    "testdata = trdata.flow_from_directory(\"images_test/\",class_mode='categorical',batch_size=64,target_size=(150,150))"
   ]
  },
  {
   "cell_type": "code",
   "execution_count": 38,
   "metadata": {},
   "outputs": [
    {
     "name": "stdout",
     "output_type": "stream",
     "text": [
      "Epoch 1/60\n",
      "350/350 [==============================] - ETA: 0s - loss: 3.4312 - acc: 0.0927\n",
      "Epoch 1: val_acc improved from -inf to 0.16608, saving model to inceptionv3_-saved-model-01-acc-0.17.hdf5\n",
      "350/350 [==============================] - 1141s 3s/step - loss: 3.4312 - acc: 0.0927 - val_loss: 3.1363 - val_acc: 0.1661\n",
      "Epoch 2/60\n",
      "350/350 [==============================] - ETA: 0s - loss: 3.0584 - acc: 0.1784\n",
      "Epoch 2: val_acc improved from 0.16608 to 0.20092, saving model to inceptionv3_-saved-model-02-acc-0.20.hdf5\n",
      "350/350 [==============================] - 1123s 3s/step - loss: 3.0584 - acc: 0.1784 - val_loss: 2.9852 - val_acc: 0.2009\n",
      "Epoch 3/60\n",
      "350/350 [==============================] - ETA: 0s - loss: 2.8713 - acc: 0.2220\n",
      "Epoch 3: val_acc improved from 0.20092 to 0.22157, saving model to inceptionv3_-saved-model-03-acc-0.22.hdf5\n",
      "350/350 [==============================] - 1629s 5s/step - loss: 2.8713 - acc: 0.2220 - val_loss: 2.8896 - val_acc: 0.2216\n",
      "Epoch 4/60\n",
      "350/350 [==============================] - ETA: 0s - loss: 2.7267 - acc: 0.2543\n",
      "Epoch 4: val_acc improved from 0.22157 to 0.23660, saving model to inceptionv3_-saved-model-04-acc-0.24.hdf5\n",
      "350/350 [==============================] - 1185s 3s/step - loss: 2.7267 - acc: 0.2543 - val_loss: 2.8093 - val_acc: 0.2366\n",
      "Epoch 5/60\n",
      "350/350 [==============================] - ETA: 0s - loss: 2.6130 - acc: 0.2854\n",
      "Epoch 5: val_acc improved from 0.23660 to 0.25433, saving model to inceptionv3_-saved-model-05-acc-0.25.hdf5\n",
      "350/350 [==============================] - 1182s 3s/step - loss: 2.6130 - acc: 0.2854 - val_loss: 2.7580 - val_acc: 0.2543\n",
      "Epoch 6/60\n",
      "350/350 [==============================] - ETA: 0s - loss: 2.5043 - acc: 0.3155\n",
      "Epoch 6: val_acc did not improve from 0.25433\n",
      "350/350 [==============================] - 1209s 3s/step - loss: 2.5043 - acc: 0.3155 - val_loss: 2.7206 - val_acc: 0.2516\n",
      "Epoch 7/60\n",
      "350/350 [==============================] - ETA: 0s - loss: 2.4109 - acc: 0.3383\n",
      "Epoch 7: val_acc improved from 0.25433 to 0.26789, saving model to inceptionv3_-saved-model-07-acc-0.27.hdf5\n",
      "350/350 [==============================] - 1199s 3s/step - loss: 2.4109 - acc: 0.3383 - val_loss: 2.6770 - val_acc: 0.2679\n",
      "Epoch 8/60\n",
      "350/350 [==============================] - ETA: 0s - loss: 2.3100 - acc: 0.3654\n",
      "Epoch 8: val_acc improved from 0.26789 to 0.28354, saving model to inceptionv3_-saved-model-08-acc-0.28.hdf5\n",
      "350/350 [==============================] - 1193s 3s/step - loss: 2.3100 - acc: 0.3654 - val_loss: 2.6493 - val_acc: 0.2835\n",
      "Epoch 9/60\n",
      "350/350 [==============================] - ETA: 0s - loss: 2.2145 - acc: 0.3885\n",
      "Epoch 9: val_acc improved from 0.28354 to 0.28896, saving model to inceptionv3_-saved-model-09-acc-0.29.hdf5\n",
      "350/350 [==============================] - 1161s 3s/step - loss: 2.2145 - acc: 0.3885 - val_loss: 2.6270 - val_acc: 0.2890\n",
      "Epoch 10/60\n",
      "350/350 [==============================] - ETA: 0s - loss: 2.1201 - acc: 0.4132\n",
      "Epoch 10: val_acc improved from 0.28896 to 0.29460, saving model to inceptionv3_-saved-model-10-acc-0.29.hdf5\n",
      "350/350 [==============================] - 1145s 3s/step - loss: 2.1201 - acc: 0.4132 - val_loss: 2.6050 - val_acc: 0.2946\n",
      "Epoch 11/60\n",
      "350/350 [==============================] - ETA: 0s - loss: 2.0511 - acc: 0.4323\n",
      "Epoch 11: val_acc improved from 0.29460 to 0.30086, saving model to inceptionv3_-saved-model-11-acc-0.30.hdf5\n",
      "350/350 [==============================] - 1393s 4s/step - loss: 2.0511 - acc: 0.4323 - val_loss: 2.5808 - val_acc: 0.3009\n",
      "Epoch 12/60\n",
      "350/350 [==============================] - ETA: 0s - loss: 1.9673 - acc: 0.4511\n",
      "Epoch 12: val_acc improved from 0.30086 to 0.30524, saving model to inceptionv3_-saved-model-12-acc-0.31.hdf5\n",
      "350/350 [==============================] - 1662s 5s/step - loss: 1.9673 - acc: 0.4511 - val_loss: 2.5639 - val_acc: 0.3052\n",
      "Epoch 13/60\n",
      "350/350 [==============================] - ETA: 0s - loss: 1.8901 - acc: 0.4685\n",
      "Epoch 13: val_acc improved from 0.30524 to 0.31045, saving model to inceptionv3_-saved-model-13-acc-0.31.hdf5\n",
      "350/350 [==============================] - 1666s 5s/step - loss: 1.8901 - acc: 0.4685 - val_loss: 2.5692 - val_acc: 0.3105\n",
      "Epoch 14/60\n",
      "350/350 [==============================] - ETA: 0s - loss: 1.8201 - acc: 0.4874\n",
      "Epoch 14: val_acc improved from 0.31045 to 0.31504, saving model to inceptionv3_-saved-model-14-acc-0.32.hdf5\n",
      "350/350 [==============================] - 1671s 5s/step - loss: 1.8201 - acc: 0.4874 - val_loss: 2.5719 - val_acc: 0.3150\n",
      "Epoch 15/60\n",
      "350/350 [==============================] - ETA: 0s - loss: 1.7313 - acc: 0.5099\n",
      "Epoch 15: val_acc improved from 0.31504 to 0.31755, saving model to inceptionv3_-saved-model-15-acc-0.32.hdf5\n",
      "350/350 [==============================] - 1684s 5s/step - loss: 1.7313 - acc: 0.5099 - val_loss: 2.5382 - val_acc: 0.3175\n",
      "Epoch 16/60\n",
      "350/350 [==============================] - ETA: 0s - loss: 1.6602 - acc: 0.5272\n",
      "Epoch 16: val_acc improved from 0.31755 to 0.32506, saving model to inceptionv3_-saved-model-16-acc-0.33.hdf5\n",
      "350/350 [==============================] - 1628s 5s/step - loss: 1.6602 - acc: 0.5272 - val_loss: 2.5264 - val_acc: 0.3251\n",
      "Epoch 17/60\n",
      "350/350 [==============================] - ETA: 0s - loss: 1.5840 - acc: 0.5495\n",
      "Epoch 17: val_acc improved from 0.32506 to 0.32714, saving model to inceptionv3_-saved-model-17-acc-0.33.hdf5\n",
      "350/350 [==============================] - 1665s 5s/step - loss: 1.5840 - acc: 0.5495 - val_loss: 2.5216 - val_acc: 0.3271\n",
      "Epoch 18/60\n",
      "350/350 [==============================] - ETA: 0s - loss: 1.5122 - acc: 0.5699\n",
      "Epoch 18: val_acc improved from 0.32714 to 0.32965, saving model to inceptionv3_-saved-model-18-acc-0.33.hdf5\n",
      "350/350 [==============================] - 1670s 5s/step - loss: 1.5122 - acc: 0.5699 - val_loss: 2.5427 - val_acc: 0.3296\n",
      "Epoch 19/60\n",
      "350/350 [==============================] - ETA: 0s - loss: 1.4484 - acc: 0.5826\n",
      "Epoch 19: val_acc improved from 0.32965 to 0.33111, saving model to inceptionv3_-saved-model-19-acc-0.33.hdf5\n",
      "350/350 [==============================] - 1666s 5s/step - loss: 1.4484 - acc: 0.5826 - val_loss: 2.5213 - val_acc: 0.3311\n",
      "Epoch 20/60\n",
      "350/350 [==============================] - ETA: 0s - loss: 1.3940 - acc: 0.6039\n",
      "Epoch 20: val_acc improved from 0.33111 to 0.33507, saving model to inceptionv3_-saved-model-20-acc-0.34.hdf5\n",
      "350/350 [==============================] - 1669s 5s/step - loss: 1.3940 - acc: 0.6039 - val_loss: 2.5263 - val_acc: 0.3351\n",
      "Epoch 21/60\n",
      "350/350 [==============================] - ETA: 0s - loss: 1.3104 - acc: 0.6215\n",
      "Epoch 21: val_acc did not improve from 0.33507\n",
      "350/350 [==============================] - 1669s 5s/step - loss: 1.3104 - acc: 0.6215 - val_loss: 2.5349 - val_acc: 0.3299\n",
      "Epoch 22/60\n",
      "350/350 [==============================] - ETA: 0s - loss: 1.2498 - acc: 0.6392\n",
      "Epoch 22: val_acc did not improve from 0.33507\n",
      "350/350 [==============================] - 1647s 5s/step - loss: 1.2498 - acc: 0.6392 - val_loss: 2.5536 - val_acc: 0.3322\n",
      "Epoch 23/60\n",
      "350/350 [==============================] - ETA: 0s - loss: 1.1778 - acc: 0.6614\n",
      "Epoch 23: val_acc did not improve from 0.33507\n",
      "350/350 [==============================] - 1651s 5s/step - loss: 1.1778 - acc: 0.6614 - val_loss: 2.5508 - val_acc: 0.3334\n",
      "Epoch 24/60\n",
      "350/350 [==============================] - ETA: 0s - loss: 1.1213 - acc: 0.6765\n",
      "Epoch 24: val_acc improved from 0.33507 to 0.33632, saving model to inceptionv3_-saved-model-24-acc-0.34.hdf5\n",
      "350/350 [==============================] - 1677s 5s/step - loss: 1.1213 - acc: 0.6765 - val_loss: 2.5525 - val_acc: 0.3363\n",
      "Epoch 25/60\n",
      "350/350 [==============================] - ETA: 0s - loss: 1.0805 - acc: 0.6867\n",
      "Epoch 25: val_acc did not improve from 0.33632\n",
      "350/350 [==============================] - 1666s 5s/step - loss: 1.0805 - acc: 0.6867 - val_loss: 2.5749 - val_acc: 0.3294\n",
      "Epoch 26/60\n",
      "350/350 [==============================] - ETA: 0s - loss: 1.0080 - acc: 0.7070\n",
      "Epoch 26: val_acc improved from 0.33632 to 0.34467, saving model to inceptionv3_-saved-model-26-acc-0.34.hdf5\n",
      "350/350 [==============================] - 1364s 4s/step - loss: 1.0080 - acc: 0.7070 - val_loss: 2.5659 - val_acc: 0.3447\n",
      "Epoch 27/60\n"
     ]
    },
    {
     "name": "stdout",
     "output_type": "stream",
     "text": [
      "350/350 [==============================] - ETA: 0s - loss: 0.9559 - acc: 0.7231\n",
      "Epoch 27: val_acc did not improve from 0.34467\n",
      "350/350 [==============================] - 1290s 4s/step - loss: 0.9559 - acc: 0.7231 - val_loss: 2.6094 - val_acc: 0.3332\n",
      "Epoch 28/60\n",
      "350/350 [==============================] - ETA: 0s - loss: 0.9086 - acc: 0.7367\n",
      "Epoch 28: val_acc did not improve from 0.34467\n",
      "350/350 [==============================] - 1114s 3s/step - loss: 0.9086 - acc: 0.7367 - val_loss: 2.6183 - val_acc: 0.3388\n",
      "Epoch 29/60\n",
      "350/350 [==============================] - ETA: 0s - loss: 0.8674 - acc: 0.7472\n",
      "Epoch 29: val_acc did not improve from 0.34467\n",
      "350/350 [==============================] - 1097s 3s/step - loss: 0.8674 - acc: 0.7472 - val_loss: 2.6263 - val_acc: 0.3445\n",
      "Epoch 30/60\n",
      "350/350 [==============================] - ETA: 0s - loss: 0.8070 - acc: 0.7658\n",
      "Epoch 30: val_acc did not improve from 0.34467\n",
      "350/350 [==============================] - 1232s 4s/step - loss: 0.8070 - acc: 0.7658 - val_loss: 2.6700 - val_acc: 0.3355\n",
      "Epoch 31/60\n",
      "350/350 [==============================] - ETA: 0s - loss: 0.7579 - acc: 0.7804\n",
      "Epoch 31: val_acc did not improve from 0.34467\n",
      "350/350 [==============================] - 1416s 4s/step - loss: 0.7579 - acc: 0.7804 - val_loss: 2.7462 - val_acc: 0.3351\n",
      "Epoch 32/60\n",
      "350/350 [==============================] - ETA: 0s - loss: 0.7194 - acc: 0.7908\n",
      "Epoch 32: val_acc improved from 0.34467 to 0.34780, saving model to inceptionv3_-saved-model-32-acc-0.35.hdf5\n",
      "350/350 [==============================] - 1159s 3s/step - loss: 0.7194 - acc: 0.7908 - val_loss: 2.6625 - val_acc: 0.3478\n",
      "Epoch 33/60\n",
      "350/350 [==============================] - ETA: 0s - loss: 0.6851 - acc: 0.7992\n",
      "Epoch 33: val_acc improved from 0.34780 to 0.34989, saving model to inceptionv3_-saved-model-33-acc-0.35.hdf5\n",
      "350/350 [==============================] - 1206s 3s/step - loss: 0.6851 - acc: 0.7992 - val_loss: 2.6916 - val_acc: 0.3499\n",
      "Epoch 34/60\n",
      "350/350 [==============================] - ETA: 0s - loss: 0.6516 - acc: 0.8084\n",
      "Epoch 34: val_acc did not improve from 0.34989\n",
      "350/350 [==============================] - 1922s 5s/step - loss: 0.6516 - acc: 0.8084 - val_loss: 2.7443 - val_acc: 0.3457\n",
      "Epoch 35/60\n",
      "350/350 [==============================] - ETA: 0s - loss: 0.6248 - acc: 0.8177\n",
      "Epoch 35: val_acc improved from 0.34989 to 0.35030, saving model to inceptionv3_-saved-model-35-acc-0.35.hdf5\n",
      "350/350 [==============================] - 1539s 4s/step - loss: 0.6248 - acc: 0.8177 - val_loss: 2.7312 - val_acc: 0.3503\n",
      "Epoch 36/60\n",
      "350/350 [==============================] - ETA: 0s - loss: 0.5874 - acc: 0.8283\n",
      "Epoch 36: val_acc did not improve from 0.35030\n",
      "350/350 [==============================] - 2217s 6s/step - loss: 0.5874 - acc: 0.8283 - val_loss: 2.7804 - val_acc: 0.3420\n",
      "Epoch 37/60\n",
      "350/350 [==============================] - ETA: 0s - loss: 0.5479 - acc: 0.8392\n",
      "Epoch 37: val_acc did not improve from 0.35030\n",
      "350/350 [==============================] - 1692s 5s/step - loss: 0.5479 - acc: 0.8392 - val_loss: 2.8007 - val_acc: 0.3455\n",
      "Epoch 38/60\n",
      "350/350 [==============================] - ETA: 0s - loss: 0.5346 - acc: 0.8425\n",
      "Epoch 38: val_acc did not improve from 0.35030\n",
      "350/350 [==============================] - 1250s 4s/step - loss: 0.5346 - acc: 0.8425 - val_loss: 2.7910 - val_acc: 0.3415\n",
      "Epoch 39/60\n",
      "350/350 [==============================] - ETA: 0s - loss: 0.5154 - acc: 0.8447\n",
      "Epoch 39: val_acc did not improve from 0.35030\n",
      "350/350 [==============================] - 1452s 4s/step - loss: 0.5154 - acc: 0.8447 - val_loss: 2.8403 - val_acc: 0.3453\n",
      "Epoch 40/60\n",
      "350/350 [==============================] - ETA: 0s - loss: 0.4915 - acc: 0.8516\n",
      "Epoch 40: val_acc improved from 0.35030 to 0.35093, saving model to inceptionv3_-saved-model-40-acc-0.35.hdf5\n",
      "350/350 [==============================] - 1673s 5s/step - loss: 0.4915 - acc: 0.8516 - val_loss: 2.8472 - val_acc: 0.3509\n",
      "Epoch 41/60\n",
      "350/350 [==============================] - ETA: 0s - loss: 0.4734 - acc: 0.8580\n",
      "Epoch 41: val_acc did not improve from 0.35093\n",
      "350/350 [==============================] - 1628s 5s/step - loss: 0.4734 - acc: 0.8580 - val_loss: 2.9439 - val_acc: 0.3399\n",
      "Epoch 42/60\n",
      "350/350 [==============================] - ETA: 0s - loss: 0.4483 - acc: 0.8663\n",
      "Epoch 42: val_acc did not improve from 0.35093\n",
      "350/350 [==============================] - 1737s 5s/step - loss: 0.4483 - acc: 0.8663 - val_loss: 2.8904 - val_acc: 0.3482\n",
      "Epoch 43/60\n",
      "350/350 [==============================] - ETA: 0s - loss: 0.4277 - acc: 0.8692\n",
      "Epoch 43: val_acc did not improve from 0.35093\n",
      "350/350 [==============================] - 1745s 5s/step - loss: 0.4277 - acc: 0.8692 - val_loss: 2.8936 - val_acc: 0.3507\n",
      "Epoch 44/60\n",
      "350/350 [==============================] - ETA: 0s - loss: 0.4123 - acc: 0.8739\n",
      "Epoch 44: val_acc did not improve from 0.35093\n",
      "350/350 [==============================] - 1722s 5s/step - loss: 0.4123 - acc: 0.8739 - val_loss: 2.9838 - val_acc: 0.3457\n",
      "Epoch 45/60\n",
      "350/350 [==============================] - ETA: 0s - loss: 0.4038 - acc: 0.8756 \n",
      "Epoch 45: val_acc did not improve from 0.35093\n",
      "350/350 [==============================] - 4169s 12s/step - loss: 0.4038 - acc: 0.8756 - val_loss: 3.0521 - val_acc: 0.3497\n",
      "Epoch 46/60\n",
      "350/350 [==============================] - ETA: 0s - loss: 0.3835 - acc: 0.8822 \n",
      "Epoch 46: val_acc did not improve from 0.35093\n",
      "350/350 [==============================] - 10855s 31s/step - loss: 0.3835 - acc: 0.8822 - val_loss: 2.9756 - val_acc: 0.3451\n",
      "Epoch 47/60\n",
      "350/350 [==============================] - ETA: 0s - loss: 0.3662 - acc: 0.8859 \n",
      "Epoch 47: val_acc did not improve from 0.35093\n",
      "350/350 [==============================] - 14659s 42s/step - loss: 0.3662 - acc: 0.8859 - val_loss: 3.0165 - val_acc: 0.3457\n",
      "Epoch 48/60\n",
      "350/350 [==============================] - ETA: 0s - loss: 0.3541 - acc: 0.8878\n",
      "Epoch 48: val_acc did not improve from 0.35093\n",
      "350/350 [==============================] - 1113s 3s/step - loss: 0.3541 - acc: 0.8878 - val_loss: 3.0173 - val_acc: 0.3436\n",
      "Epoch 49/60\n",
      "350/350 [==============================] - ETA: 0s - loss: 0.3455 - acc: 0.8902\n",
      "Epoch 49: val_acc did not improve from 0.35093\n",
      "350/350 [==============================] - 1133s 3s/step - loss: 0.3455 - acc: 0.8902 - val_loss: 3.0365 - val_acc: 0.3482\n",
      "Epoch 50/60\n",
      "350/350 [==============================] - ETA: 0s - loss: 0.3308 - acc: 0.8931\n",
      "Epoch 50: val_acc did not improve from 0.35093\n",
      "350/350 [==============================] - 1168s 3s/step - loss: 0.3308 - acc: 0.8931 - val_loss: 2.9811 - val_acc: 0.3411\n",
      "Epoch 51/60\n",
      "350/350 [==============================] - ETA: 0s - loss: 0.3307 - acc: 0.8934\n",
      "Epoch 51: val_acc did not improve from 0.35093\n",
      "350/350 [==============================] - 1343s 4s/step - loss: 0.3307 - acc: 0.8934 - val_loss: 3.0932 - val_acc: 0.3497\n",
      "Epoch 52/60\n",
      "350/350 [==============================] - ETA: 0s - loss: 0.3195 - acc: 0.8953 \n",
      "Epoch 52: val_acc did not improve from 0.35093\n",
      "350/350 [==============================] - 20140s 58s/step - loss: 0.3195 - acc: 0.8953 - val_loss: 3.1305 - val_acc: 0.3488\n",
      "Epoch 53/60\n",
      "350/350 [==============================] - ETA: 0s - loss: 0.3118 - acc: 0.8987\n",
      "Epoch 53: val_acc did not improve from 0.35093\n",
      "350/350 [==============================] - 1201s 3s/step - loss: 0.3118 - acc: 0.8987 - val_loss: 3.1039 - val_acc: 0.3503\n",
      "Epoch 54/60\n",
      "350/350 [==============================] - ETA: 0s - loss: 0.3033 - acc: 0.8984\n",
      "Epoch 54: val_acc improved from 0.35093 to 0.35343, saving model to inceptionv3_-saved-model-54-acc-0.35.hdf5\n",
      "350/350 [==============================] - 1300s 4s/step - loss: 0.3033 - acc: 0.8984 - val_loss: 3.0765 - val_acc: 0.3534\n",
      "Epoch 55/60\n",
      "350/350 [==============================] - ETA: 0s - loss: 0.2965 - acc: 0.9033\n",
      "Epoch 55: val_acc did not improve from 0.35343\n",
      "350/350 [==============================] - 1271s 4s/step - loss: 0.2965 - acc: 0.9033 - val_loss: 3.1213 - val_acc: 0.3426\n",
      "Epoch 56/60\n",
      "350/350 [==============================] - ETA: 0s - loss: 0.2885 - acc: 0.9037\n",
      "Epoch 56: val_acc did not improve from 0.35343\n",
      "350/350 [==============================] - 1239s 4s/step - loss: 0.2885 - acc: 0.9037 - val_loss: 3.1589 - val_acc: 0.3480\n",
      "Epoch 57/60\n"
     ]
    },
    {
     "name": "stdout",
     "output_type": "stream",
     "text": [
      "350/350 [==============================] - ETA: 0s - loss: 0.2793 - acc: 0.9043\n",
      "Epoch 57: val_acc did not improve from 0.35343\n",
      "350/350 [==============================] - 1243s 4s/step - loss: 0.2793 - acc: 0.9043 - val_loss: 3.1212 - val_acc: 0.3472\n",
      "Epoch 58/60\n",
      "350/350 [==============================] - ETA: 0s - loss: 0.2669 - acc: 0.9079\n",
      "Epoch 58: val_acc did not improve from 0.35343\n",
      "350/350 [==============================] - 1226s 4s/step - loss: 0.2669 - acc: 0.9079 - val_loss: 3.2012 - val_acc: 0.3390\n",
      "Epoch 59/60\n",
      "350/350 [==============================] - ETA: 0s - loss: 0.2685 - acc: 0.9069\n",
      "Epoch 59: val_acc did not improve from 0.35343\n",
      "350/350 [==============================] - 1245s 4s/step - loss: 0.2685 - acc: 0.9069 - val_loss: 3.1575 - val_acc: 0.3465\n",
      "Epoch 60/60\n",
      "350/350 [==============================] - ETA: 0s - loss: 0.2653 - acc: 0.9083\n",
      "Epoch 60: val_acc did not improve from 0.35343\n",
      "350/350 [==============================] - 1426s 4s/step - loss: 0.2653 - acc: 0.9083 - val_loss: 3.1921 - val_acc: 0.3449\n"
     ]
    }
   ],
   "source": [
    "InceptionV3_model = tf.keras.applications.inception_v3.InceptionV3(input_shape=(150,150,3),weights='imagenet', include_top=False)\n",
    "for layer in InceptionV3_model.layers[:249]:\n",
    "    layer.trainable = False\n",
    "for layer in InceptionV3_model.layers[249:]:\n",
    "    layer.trainable = True\n",
    "InceptionV3_last_output = InceptionV3_model.output\n",
    "InceptionV3_maxpooled_output = Flatten()(InceptionV3_last_output)\n",
    "InceptionV3_x = Dense(1024, activation='relu')(InceptionV3_maxpooled_output)\n",
    "InceptionV3_x = Dropout(0.5)(InceptionV3_x)\n",
    "InceptionV3_x = Dense(32, activation='softmax')(InceptionV3_x)\n",
    "InceptionV3_x_final_model = tf.keras.Model(inputs=InceptionV3_model.input,outputs=InceptionV3_x)\n",
    "InceptionV3_x_final_model.compile(optimizer=SGD(lr=0.0001, momentum=0.9), loss='categorical_crossentropy',metrics=['acc'])\n",
    "\n",
    "number_of_epochs = 60\n",
    "inception_filepath = 'inceptionv3_'+'-saved-model-{epoch:02d}-acc-{val_acc:.2f}.hdf5'\n",
    "inception_checkpoint = tf.keras.callbacks.ModelCheckpoint(inception_filepath, monitor='val_acc', verbose=1, save_best_only=True, mode='max')\n",
    "inception_early_stopping = tf.keras.callbacks.EarlyStopping(monitor='loss', patience=5)\n",
    "inceptionv3_history = InceptionV3_x_final_model.fit(traindata,epochs = number_of_epochs, validation_data = testdata,callbacks=[inception_checkpoint,inception_early_stopping],verbose=1)\n"
   ]
  },
  {
   "cell_type": "code",
   "execution_count": 43,
   "metadata": {},
   "outputs": [
    {
     "data": {
      "image/png": "[encoded data removed]",
      "text/plain": [
       "<Figure size 640x480 with 1 Axes>"
      ]
     },
     "metadata": {},
     "output_type": "display_data"
    }
   ],
   "source": [
    "import matplotlib.pyplot as plt\n",
    "plt.plot(inceptionv3_history.history[\"acc\"])\n",
    "plt.plot(inceptionv3_history.history['val_acc'])\n",
    "plt.plot(inceptionv3_history.history['loss'])\n",
    "plt.plot(inceptionv3_history.history['val_loss'])\n",
    "plt.title(\"model accuracy\")\n",
    "plt.ylabel(\"Accuracy\")\n",
    "plt.xlabel(\"Epoch\")\n",
    "plt.legend([\"Accuracy\",\"Validation Accuracy\",\"loss\",\"Validation Loss\"])\n",
    "plt.show()"
   ]
  },
  {
   "cell_type": "code",
   "execution_count": 41,
   "metadata": {},
   "outputs": [
    {
     "data": {
      "text/plain": [
       "<keras.callbacks.History at 0x1330a1600>"
      ]
     },
     "execution_count": 41,
     "metadata": {},
     "output_type": "execute_result"
    }
   ],
   "source": [
    "inceptionv3_history"
   ]
  },
  {
   "cell_type": "code",
   "execution_count": null,
   "metadata": {},
   "outputs": [],
   "source": []
  }
 ],
 "metadata": {
  "kernelspec": {
   "display_name": "Python 3 (ipykernel)",
   "language": "python",
   "name": "python3"
  },
  "language_info": {
   "codemirror_mode": {
    "name": "ipython",
    "version": 3
   },
   "file_extension": ".py",
   "mimetype": "text/x-python",
   "name": "python",
   "nbconvert_exporter": "python",
   "pygments_lexer": "ipython3",
   "version": "3.10.5"
  }
 },
 "nbformat": 4,
 "nbformat_minor": 4
}
