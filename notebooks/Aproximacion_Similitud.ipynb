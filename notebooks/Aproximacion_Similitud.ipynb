{
 "cells": [
  {
   "cell_type": "markdown",
   "metadata": {},
   "source": [
    "# Parte 5: Similitud entre productos"
   ]
  },
  {
   "cell_type": "markdown",
   "metadata": {},
   "source": [
    "En la etapa 5 del reto, se realizó una exploración de estrategias para encontrar la similitud entre productos. Entendiendo la naturaleza de los datos y sabiendo que tenemos información asociada a diferentes características de cada producto, se decidió realizar una comparación de distancias entre los mismos. Usando la distancia de Gower se puede encontrar la máxima y mínima distancia existente entre productos. \n",
    "Así, mediante este notebook se abordaron estrategias para encontrar productos similares mediante clustering y la distancia de Gower"
   ]
  },
  {
   "cell_type": "code",
   "execution_count": 20,
   "metadata": {},
   "outputs": [],
   "source": [
    "import pandas as pd\n",
    "import regex,unidecode,urllib\n",
    "import numpy as np\n",
    "import os, glob, json, csv, itertools\n",
    "from pathlib import Path  \n",
    "from IPython.display import Image\n",
    "import plotly.express as px\n",
    "import matplotlib.pyplot as plt\n",
    "from tqdm import tqdm\n",
    "import shutil, sys\n",
    "from wordcloud import WordCloud\n",
    "import PIL\n",
    "from scipy import spatial\n",
    "import tensorflow as tf\n",
    "import keras\n",
    "from keras.layers.core import Dense\n",
    "from tensorflow.keras.models import Sequential\n",
    "from tensorflow.keras.optimizers import Adam,SGD\n",
    "import pandas as pd \n",
    "import numpy as np\n",
    "import gower\n",
    "from sklearn.metrics.cluster import rand_score\n",
    "import seaborn as sb\n",
    "from sklearn.cluster import KMeans\n",
    "from sklearn.metrics import pairwise_distances_argmin_min\n",
    "from sklearn.cluster import AgglomerativeClustering\n"
   ]
  },
  {
   "cell_type": "code",
   "execution_count": 2,
   "metadata": {},
   "outputs": [],
   "source": [
    "from sklearn.preprocessing import LabelEncoder\n",
    "from scipy.cluster.hierarchy import linkage, fcluster, dendrogram\n",
    "from sklearn.feature_extraction.text import TfidfVectorizer\n",
    "from sklearn.model_selection import train_test_split,cross_val_score\n",
    "from sklearn.neighbors import DistanceMetric"
   ]
  },
  {
   "cell_type": "code",
   "execution_count": 3,
   "metadata": {},
   "outputs": [],
   "source": [
    "CWD = os.getcwd()"
   ]
  },
  {
   "cell_type": "markdown",
   "metadata": {},
   "source": [
    "#### Características de los productos"
   ]
  },
  {
   "cell_type": "code",
   "execution_count": 4,
   "metadata": {},
   "outputs": [],
   "source": [
    "filepath = Path(CWD+'/dataset_sub_cats.csv')  \n",
    "df_subcat = pd.read_csv(filepath)\n",
    "CATEGORIAS_LISTA = list(df_subcat['categoria'].unique())"
   ]
  },
  {
   "cell_type": "markdown",
   "metadata": {},
   "source": [
    "#### Productos con sus características"
   ]
  },
  {
   "cell_type": "code",
   "execution_count": 6,
   "metadata": {},
   "outputs": [],
   "source": [
    "filepath = Path(CWD+'/dataset_products_feats.csv')  \n",
    "df_products_prev = pd.read_csv(filepath)"
   ]
  },
  {
   "cell_type": "code",
   "execution_count": 7,
   "metadata": {},
   "outputs": [
    {
     "data": {
      "text/html": [
       "<div>\n",
       "<style scoped>\n",
       "    .dataframe tbody tr th:only-of-type {\n",
       "        vertical-align: middle;\n",
       "    }\n",
       "\n",
       "    .dataframe tbody tr th {\n",
       "        vertical-align: top;\n",
       "    }\n",
       "\n",
       "    .dataframe thead th {\n",
       "        text-align: right;\n",
       "    }\n",
       "</style>\n",
       "<table border=\"1\" class=\"dataframe\">\n",
       "  <thead>\n",
       "    <tr style=\"text-align: right;\">\n",
       "      <th></th>\n",
       "      <th>centroid_name</th>\n",
       "      <th>centroid_brand</th>\n",
       "      <th>price</th>\n",
       "      <th>centroid_image</th>\n",
       "      <th>labelgroup</th>\n",
       "    </tr>\n",
       "  </thead>\n",
       "  <tbody>\n",
       "    <tr>\n",
       "      <th>0</th>\n",
       "      <td>0.000213</td>\n",
       "      <td>0.0</td>\n",
       "      <td>13999.00</td>\n",
       "      <td>0.111302</td>\n",
       "      <td>3</td>\n",
       "    </tr>\n",
       "    <tr>\n",
       "      <th>1</th>\n",
       "      <td>0.000196</td>\n",
       "      <td>0.0</td>\n",
       "      <td>17787.00</td>\n",
       "      <td>0.117811</td>\n",
       "      <td>235</td>\n",
       "    </tr>\n",
       "    <tr>\n",
       "      <th>2</th>\n",
       "      <td>0.000257</td>\n",
       "      <td>0.0</td>\n",
       "      <td>6059.99</td>\n",
       "      <td>0.086682</td>\n",
       "      <td>3</td>\n",
       "    </tr>\n",
       "    <tr>\n",
       "      <th>3</th>\n",
       "      <td>0.000213</td>\n",
       "      <td>0.0</td>\n",
       "      <td>13999.00</td>\n",
       "      <td>0.111302</td>\n",
       "      <td>339</td>\n",
       "    </tr>\n",
       "    <tr>\n",
       "      <th>4</th>\n",
       "      <td>0.000113</td>\n",
       "      <td>0.0</td>\n",
       "      <td>1150.00</td>\n",
       "      <td>0.123773</td>\n",
       "      <td>235</td>\n",
       "    </tr>\n",
       "  </tbody>\n",
       "</table>\n",
       "</div>"
      ],
      "text/plain": [
       "   centroid_name  centroid_brand     price  centroid_image  labelgroup\n",
       "0       0.000213             0.0  13999.00        0.111302           3\n",
       "1       0.000196             0.0  17787.00        0.117811         235\n",
       "2       0.000257             0.0   6059.99        0.086682           3\n",
       "3       0.000213             0.0  13999.00        0.111302         339\n",
       "4       0.000113             0.0   1150.00        0.123773         235"
      ]
     },
     "execution_count": 7,
     "metadata": {},
     "output_type": "execute_result"
    }
   ],
   "source": [
    "df_products_prev.head(5)"
   ]
  },
  {
   "cell_type": "markdown",
   "metadata": {},
   "source": [
    "# Estructura de los productos"
   ]
  },
  {
   "cell_type": "markdown",
   "metadata": {},
   "source": [
    "* Integrar vectorización de textos y de imágenes \n",
    "* La similitud o integración de estas características serán la entrada para el cálculo de similitud entre productos\n",
    "* Se generará una etiqueta (labelgroup) que está compuesta por la etiqueta de la categoría y subcategoría de cada producto\n",
    "* Labelgroup permitirá hacer el primer filtro al buscar la similitud entre productos"
   ]
  },
  {
   "cell_type": "markdown",
   "metadata": {},
   "source": [
    "# Cálculo de similitud entre productos mediante la distancia de Gower"
   ]
  },
  {
   "cell_type": "markdown",
   "metadata": {},
   "source": [
    "Una de las funciones de distancia más famosas que se pueden aplicar a datos categóricos, es la función de distancia de Gower, que usaremos en este notebook para agrupar algunos datos en diferentes grupos de productos"
   ]
  },
  {
   "cell_type": "markdown",
   "metadata": {},
   "source": [
    "## Cálculo de similitud: Distancia de Gower"
   ]
  },
  {
   "cell_type": "code",
   "execution_count": 8,
   "metadata": {},
   "outputs": [],
   "source": [
    "# Calculate Gower's distance matrix\n",
    "gower_mat = gower.gower_matrix(df_products_prev,  cat_features = [False, False, False, False, True])\n",
    "gower_arr = np.nan_to_num(np.array(gower_mat))"
   ]
  },
  {
   "cell_type": "code",
   "execution_count": 9,
   "metadata": {},
   "outputs": [
    {
     "data": {
      "text/html": [
       "<div>\n",
       "<style scoped>\n",
       "    .dataframe tbody tr th:only-of-type {\n",
       "        vertical-align: middle;\n",
       "    }\n",
       "\n",
       "    .dataframe tbody tr th {\n",
       "        vertical-align: top;\n",
       "    }\n",
       "\n",
       "    .dataframe thead th {\n",
       "        text-align: right;\n",
       "    }\n",
       "</style>\n",
       "<table border=\"1\" class=\"dataframe\">\n",
       "  <thead>\n",
       "    <tr style=\"text-align: right;\">\n",
       "      <th></th>\n",
       "      <th>0</th>\n",
       "      <th>1</th>\n",
       "      <th>2</th>\n",
       "      <th>3</th>\n",
       "      <th>4</th>\n",
       "      <th>5</th>\n",
       "      <th>6</th>\n",
       "      <th>7</th>\n",
       "      <th>8</th>\n",
       "      <th>9</th>\n",
       "      <th>...</th>\n",
       "      <th>19261</th>\n",
       "      <th>19262</th>\n",
       "      <th>19263</th>\n",
       "      <th>19264</th>\n",
       "      <th>19265</th>\n",
       "      <th>19266</th>\n",
       "      <th>19267</th>\n",
       "      <th>19268</th>\n",
       "      <th>19269</th>\n",
       "      <th>19270</th>\n",
       "    </tr>\n",
       "  </thead>\n",
       "  <tbody>\n",
       "    <tr>\n",
       "      <th>0</th>\n",
       "      <td>0.000000</td>\n",
       "      <td>0.219193</td>\n",
       "      <td>0.062876</td>\n",
       "      <td>0.200000</td>\n",
       "      <td>0.270667</td>\n",
       "      <td>0.110401</td>\n",
       "      <td>0.310003</td>\n",
       "      <td>0.244842</td>\n",
       "      <td>0.207478</td>\n",
       "      <td>0.244888</td>\n",
       "      <td>...</td>\n",
       "      <td>0.263713</td>\n",
       "      <td>0.298995</td>\n",
       "      <td>0.211215</td>\n",
       "      <td>0.253243</td>\n",
       "      <td>0.223681</td>\n",
       "      <td>0.236542</td>\n",
       "      <td>0.277367</td>\n",
       "      <td>0.269182</td>\n",
       "      <td>0.217949</td>\n",
       "      <td>0.284654</td>\n",
       "    </tr>\n",
       "    <tr>\n",
       "      <th>1</th>\n",
       "      <td>0.219193</td>\n",
       "      <td>0.000000</td>\n",
       "      <td>0.282069</td>\n",
       "      <td>0.219193</td>\n",
       "      <td>0.051488</td>\n",
       "      <td>0.308093</td>\n",
       "      <td>0.311730</td>\n",
       "      <td>0.264026</td>\n",
       "      <td>0.213823</td>\n",
       "      <td>0.236568</td>\n",
       "      <td>...</td>\n",
       "      <td>0.282906</td>\n",
       "      <td>0.301317</td>\n",
       "      <td>0.228737</td>\n",
       "      <td>0.271706</td>\n",
       "      <td>0.211772</td>\n",
       "      <td>0.217363</td>\n",
       "      <td>0.279689</td>\n",
       "      <td>0.253643</td>\n",
       "      <td>0.228101</td>\n",
       "      <td>0.282332</td>\n",
       "    </tr>\n",
       "    <tr>\n",
       "      <th>2</th>\n",
       "      <td>0.062876</td>\n",
       "      <td>0.282069</td>\n",
       "      <td>0.000000</td>\n",
       "      <td>0.262876</td>\n",
       "      <td>0.333514</td>\n",
       "      <td>0.156098</td>\n",
       "      <td>0.372878</td>\n",
       "      <td>0.247946</td>\n",
       "      <td>0.268246</td>\n",
       "      <td>0.307743</td>\n",
       "      <td>...</td>\n",
       "      <td>0.284603</td>\n",
       "      <td>0.280503</td>\n",
       "      <td>0.253332</td>\n",
       "      <td>0.295798</td>\n",
       "      <td>0.286528</td>\n",
       "      <td>0.299389</td>\n",
       "      <td>0.301413</td>\n",
       "      <td>0.332058</td>\n",
       "      <td>0.254058</td>\n",
       "      <td>0.344243</td>\n",
       "    </tr>\n",
       "    <tr>\n",
       "      <th>3</th>\n",
       "      <td>0.200000</td>\n",
       "      <td>0.219193</td>\n",
       "      <td>0.262876</td>\n",
       "      <td>0.000000</td>\n",
       "      <td>0.270667</td>\n",
       "      <td>0.310401</td>\n",
       "      <td>0.310003</td>\n",
       "      <td>0.244842</td>\n",
       "      <td>0.207478</td>\n",
       "      <td>0.244888</td>\n",
       "      <td>...</td>\n",
       "      <td>0.263713</td>\n",
       "      <td>0.298995</td>\n",
       "      <td>0.211215</td>\n",
       "      <td>0.253243</td>\n",
       "      <td>0.223681</td>\n",
       "      <td>0.236542</td>\n",
       "      <td>0.277367</td>\n",
       "      <td>0.269182</td>\n",
       "      <td>0.217949</td>\n",
       "      <td>0.284654</td>\n",
       "    </tr>\n",
       "    <tr>\n",
       "      <th>4</th>\n",
       "      <td>0.270667</td>\n",
       "      <td>0.051488</td>\n",
       "      <td>0.333514</td>\n",
       "      <td>0.270667</td>\n",
       "      <td>0.000000</td>\n",
       "      <td>0.339829</td>\n",
       "      <td>0.281204</td>\n",
       "      <td>0.315509</td>\n",
       "      <td>0.265269</td>\n",
       "      <td>0.225779</td>\n",
       "      <td>...</td>\n",
       "      <td>0.334345</td>\n",
       "      <td>0.339925</td>\n",
       "      <td>0.280187</td>\n",
       "      <td>0.323150</td>\n",
       "      <td>0.246986</td>\n",
       "      <td>0.234126</td>\n",
       "      <td>0.317535</td>\n",
       "      <td>0.287045</td>\n",
       "      <td>0.279589</td>\n",
       "      <td>0.314122</td>\n",
       "    </tr>\n",
       "    <tr>\n",
       "      <th>...</th>\n",
       "      <td>...</td>\n",
       "      <td>...</td>\n",
       "      <td>...</td>\n",
       "      <td>...</td>\n",
       "      <td>...</td>\n",
       "      <td>...</td>\n",
       "      <td>...</td>\n",
       "      <td>...</td>\n",
       "      <td>...</td>\n",
       "      <td>...</td>\n",
       "      <td>...</td>\n",
       "      <td>...</td>\n",
       "      <td>...</td>\n",
       "      <td>...</td>\n",
       "      <td>...</td>\n",
       "      <td>...</td>\n",
       "      <td>...</td>\n",
       "      <td>...</td>\n",
       "      <td>...</td>\n",
       "      <td>...</td>\n",
       "      <td>...</td>\n",
       "    </tr>\n",
       "    <tr>\n",
       "      <th>19266</th>\n",
       "      <td>0.236542</td>\n",
       "      <td>0.217363</td>\n",
       "      <td>0.299389</td>\n",
       "      <td>0.236542</td>\n",
       "      <td>0.234126</td>\n",
       "      <td>0.307993</td>\n",
       "      <td>0.311830</td>\n",
       "      <td>0.281384</td>\n",
       "      <td>0.231143</td>\n",
       "      <td>0.236634</td>\n",
       "      <td>...</td>\n",
       "      <td>0.300219</td>\n",
       "      <td>0.305799</td>\n",
       "      <td>0.246062</td>\n",
       "      <td>0.289024</td>\n",
       "      <td>0.212866</td>\n",
       "      <td>0.000000</td>\n",
       "      <td>0.283409</td>\n",
       "      <td>0.253597</td>\n",
       "      <td>0.245464</td>\n",
       "      <td>0.282286</td>\n",
       "    </tr>\n",
       "    <tr>\n",
       "      <th>19267</th>\n",
       "      <td>0.277367</td>\n",
       "      <td>0.279689</td>\n",
       "      <td>0.301413</td>\n",
       "      <td>0.277367</td>\n",
       "      <td>0.317535</td>\n",
       "      <td>0.302299</td>\n",
       "      <td>0.271473</td>\n",
       "      <td>0.306821</td>\n",
       "      <td>0.284817</td>\n",
       "      <td>0.291772</td>\n",
       "      <td>...</td>\n",
       "      <td>0.216847</td>\n",
       "      <td>0.222391</td>\n",
       "      <td>0.266152</td>\n",
       "      <td>0.224124</td>\n",
       "      <td>0.270548</td>\n",
       "      <td>0.283409</td>\n",
       "      <td>0.000000</td>\n",
       "      <td>0.247899</td>\n",
       "      <td>0.295317</td>\n",
       "      <td>0.276588</td>\n",
       "    </tr>\n",
       "    <tr>\n",
       "      <th>19268</th>\n",
       "      <td>0.269182</td>\n",
       "      <td>0.253643</td>\n",
       "      <td>0.332058</td>\n",
       "      <td>0.269182</td>\n",
       "      <td>0.287045</td>\n",
       "      <td>0.254563</td>\n",
       "      <td>0.279939</td>\n",
       "      <td>0.314015</td>\n",
       "      <td>0.263812</td>\n",
       "      <td>0.290210</td>\n",
       "      <td>...</td>\n",
       "      <td>0.247462</td>\n",
       "      <td>0.269527</td>\n",
       "      <td>0.278726</td>\n",
       "      <td>0.236262</td>\n",
       "      <td>0.065415</td>\n",
       "      <td>0.253597</td>\n",
       "      <td>0.247899</td>\n",
       "      <td>0.000000</td>\n",
       "      <td>0.077999</td>\n",
       "      <td>0.028689</td>\n",
       "    </tr>\n",
       "    <tr>\n",
       "      <th>19269</th>\n",
       "      <td>0.217949</td>\n",
       "      <td>0.228101</td>\n",
       "      <td>0.254058</td>\n",
       "      <td>0.217949</td>\n",
       "      <td>0.279589</td>\n",
       "      <td>0.302173</td>\n",
       "      <td>0.327357</td>\n",
       "      <td>0.236016</td>\n",
       "      <td>0.214320</td>\n",
       "      <td>0.253810</td>\n",
       "      <td>...</td>\n",
       "      <td>0.278469</td>\n",
       "      <td>0.316945</td>\n",
       "      <td>0.229165</td>\n",
       "      <td>0.271192</td>\n",
       "      <td>0.032603</td>\n",
       "      <td>0.245464</td>\n",
       "      <td>0.295317</td>\n",
       "      <td>0.077999</td>\n",
       "      <td>0.000000</td>\n",
       "      <td>0.090185</td>\n",
       "    </tr>\n",
       "    <tr>\n",
       "      <th>19270</th>\n",
       "      <td>0.284654</td>\n",
       "      <td>0.282332</td>\n",
       "      <td>0.344243</td>\n",
       "      <td>0.284654</td>\n",
       "      <td>0.314122</td>\n",
       "      <td>0.225949</td>\n",
       "      <td>0.308628</td>\n",
       "      <td>0.326201</td>\n",
       "      <td>0.277204</td>\n",
       "      <td>0.318899</td>\n",
       "      <td>...</td>\n",
       "      <td>0.259741</td>\n",
       "      <td>0.298216</td>\n",
       "      <td>0.295869</td>\n",
       "      <td>0.252464</td>\n",
       "      <td>0.094104</td>\n",
       "      <td>0.282286</td>\n",
       "      <td>0.276588</td>\n",
       "      <td>0.028689</td>\n",
       "      <td>0.090185</td>\n",
       "      <td>0.000000</td>\n",
       "    </tr>\n",
       "  </tbody>\n",
       "</table>\n",
       "<p>19271 rows × 19271 columns</p>\n",
       "</div>"
      ],
      "text/plain": [
       "          0         1         2         3         4         5         6      \\\n",
       "0      0.000000  0.219193  0.062876  0.200000  0.270667  0.110401  0.310003   \n",
       "1      0.219193  0.000000  0.282069  0.219193  0.051488  0.308093  0.311730   \n",
       "2      0.062876  0.282069  0.000000  0.262876  0.333514  0.156098  0.372878   \n",
       "3      0.200000  0.219193  0.262876  0.000000  0.270667  0.310401  0.310003   \n",
       "4      0.270667  0.051488  0.333514  0.270667  0.000000  0.339829  0.281204   \n",
       "...         ...       ...       ...       ...       ...       ...       ...   \n",
       "19266  0.236542  0.217363  0.299389  0.236542  0.234126  0.307993  0.311830   \n",
       "19267  0.277367  0.279689  0.301413  0.277367  0.317535  0.302299  0.271473   \n",
       "19268  0.269182  0.253643  0.332058  0.269182  0.287045  0.254563  0.279939   \n",
       "19269  0.217949  0.228101  0.254058  0.217949  0.279589  0.302173  0.327357   \n",
       "19270  0.284654  0.282332  0.344243  0.284654  0.314122  0.225949  0.308628   \n",
       "\n",
       "          7         8         9      ...     19261     19262     19263  \\\n",
       "0      0.244842  0.207478  0.244888  ...  0.263713  0.298995  0.211215   \n",
       "1      0.264026  0.213823  0.236568  ...  0.282906  0.301317  0.228737   \n",
       "2      0.247946  0.268246  0.307743  ...  0.284603  0.280503  0.253332   \n",
       "3      0.244842  0.207478  0.244888  ...  0.263713  0.298995  0.211215   \n",
       "4      0.315509  0.265269  0.225779  ...  0.334345  0.339925  0.280187   \n",
       "...         ...       ...       ...  ...       ...       ...       ...   \n",
       "19266  0.281384  0.231143  0.236634  ...  0.300219  0.305799  0.246062   \n",
       "19267  0.306821  0.284817  0.291772  ...  0.216847  0.222391  0.266152   \n",
       "19268  0.314015  0.263812  0.290210  ...  0.247462  0.269527  0.278726   \n",
       "19269  0.236016  0.214320  0.253810  ...  0.278469  0.316945  0.229165   \n",
       "19270  0.326201  0.277204  0.318899  ...  0.259741  0.298216  0.295869   \n",
       "\n",
       "          19264     19265     19266     19267     19268     19269     19270  \n",
       "0      0.253243  0.223681  0.236542  0.277367  0.269182  0.217949  0.284654  \n",
       "1      0.271706  0.211772  0.217363  0.279689  0.253643  0.228101  0.282332  \n",
       "2      0.295798  0.286528  0.299389  0.301413  0.332058  0.254058  0.344243  \n",
       "3      0.253243  0.223681  0.236542  0.277367  0.269182  0.217949  0.284654  \n",
       "4      0.323150  0.246986  0.234126  0.317535  0.287045  0.279589  0.314122  \n",
       "...         ...       ...       ...       ...       ...       ...       ...  \n",
       "19266  0.289024  0.212866  0.000000  0.283409  0.253597  0.245464  0.282286  \n",
       "19267  0.224124  0.270548  0.283409  0.000000  0.247899  0.295317  0.276588  \n",
       "19268  0.236262  0.065415  0.253597  0.247899  0.000000  0.077999  0.028689  \n",
       "19269  0.271192  0.032603  0.245464  0.295317  0.077999  0.000000  0.090185  \n",
       "19270  0.252464  0.094104  0.282286  0.276588  0.028689  0.090185  0.000000  \n",
       "\n",
       "[19271 rows x 19271 columns]"
      ]
     },
     "execution_count": 9,
     "metadata": {},
     "output_type": "execute_result"
    }
   ],
   "source": [
    "df_gower = pd.DataFrame(gower_mat)\n",
    "df_gower"
   ]
  },
  {
   "cell_type": "markdown",
   "metadata": {},
   "source": [
    "* La matriz representa la distancia entre cada uno de los productos de la base de datos\n",
    "* Una distancia de 0 indica que los productos son idénticos"
   ]
  },
  {
   "cell_type": "markdown",
   "metadata": {},
   "source": [
    "## Búsqueda del número óptimo de clusters"
   ]
  },
  {
   "cell_type": "code",
   "execution_count": 46,
   "metadata": {},
   "outputs": [],
   "source": [
    "df_products_clus = df_products_prev.copy(deep=True).dropna()"
   ]
  },
  {
   "cell_type": "code",
   "execution_count": 49,
   "metadata": {},
   "outputs": [
    {
     "data": {
      "image/png": "[encoded data removed]",
      "text/plain": [
       "<Figure size 640x480 with 1 Axes>"
      ]
     },
     "metadata": {},
     "output_type": "display_data"
    }
   ],
   "source": [
    "ws = []\n",
    "for i in range(1,15):\n",
    "    model = KMeans(n_clusters=i,\n",
    "                  init = 'k-means++',\n",
    "                  max_iter = 300, \n",
    "                  n_init=10,\n",
    "                  random_state=0)\n",
    "    model.fit(df_products_clus)\n",
    "    ws.append(model.inertia_)\n",
    "#show elbow plot\n",
    "plt.plot(range(1,15),ws)\n",
    "plt.title('Elbow Method')\n",
    "plt.xlabel('Number of clusters')\n",
    "plt.ylabel('Within cluster sum of squares')\n",
    "plt.show()"
   ]
  },
  {
   "cell_type": "markdown",
   "metadata": {},
   "source": [
    "### Kmeans"
   ]
  },
  {
   "cell_type": "code",
   "execution_count": 52,
   "metadata": {},
   "outputs": [
    {
     "data": {
      "text/plain": [
       "array([1, 1, 1, ..., 0, 1, 0], dtype=int32)"
      ]
     },
     "execution_count": 52,
     "metadata": {},
     "output_type": "execute_result"
    }
   ],
   "source": [
    "kmeans = KMeans(n_clusters=3).fit(np.array(gower_arr))\n",
    "centroids = kmeans.cluster_centers_\n",
    "labels = kmeans.predict(np.array(gower_arr))\n",
    "labels"
   ]
  },
  {
   "cell_type": "code",
   "execution_count": 53,
   "metadata": {},
   "outputs": [
    {
     "data": {
      "text/plain": [
       "<AxesSubplot:ylabel='None'>"
      ]
     },
     "execution_count": 53,
     "metadata": {},
     "output_type": "execute_result"
    },
    {
     "data": {
      "image/png": "[encoded data removed]",
      "text/plain": [
       "<Figure size 640x480 with 1 Axes>"
      ]
     },
     "metadata": {},
     "output_type": "display_data"
    }
   ],
   "source": [
    "df_res = pd.DataFrame(labels)\n",
    "df_res.value_counts().plot.pie(autopct='%1.0f%%', pctdistance=0.7, labeldistance=1.1)"
   ]
  },
  {
   "cell_type": "code",
   "execution_count": 54,
   "metadata": {},
   "outputs": [],
   "source": [
    "df_products_prev['clus'] = labels"
   ]
  },
  {
   "cell_type": "code",
   "execution_count": 55,
   "metadata": {},
   "outputs": [],
   "source": [
    "#Calcular métricas de desempeño"
   ]
  },
  {
   "cell_type": "markdown",
   "metadata": {},
   "source": [
    "## Alternativa: clustering con filtro previo "
   ]
  },
  {
   "cell_type": "markdown",
   "metadata": {},
   "source": [
    "### Filtrar por labelgroup"
   ]
  },
  {
   "cell_type": "code",
   "execution_count": 57,
   "metadata": {},
   "outputs": [],
   "source": [
    "df_products_filt = df_products[['name_vector','brand_vector','price','image_feature','labelgroup']]\n",
    "list_labels = list(df_products_filt['labelgroup'].unique())"
   ]
  },
  {
   "cell_type": "code",
   "execution_count": 65,
   "metadata": {},
   "outputs": [],
   "source": [
    "df_i = pd.DataFrame(df_products_filt[df_products_filt['labelgroup']==list_labels[0]])\n",
    "df_i['centroid_name'] = [np.mean(n) for n in df_i['name_vector']]\n",
    "df_i['centroid_brand'] = [np.mean(n) for n in df_i['brand_vector']]\n",
    "df_i['centroid_image'] = [np.mean(n) for n in df_i['image_feature']]\n",
    "df_i = df_i[['centroid_name','centroid_brand','centroid_image','labelgroup','price']]"
   ]
  },
  {
   "cell_type": "markdown",
   "metadata": {},
   "source": [
    "### Calcular la distancia de Gower para el nuevo dataframe"
   ]
  },
  {
   "cell_type": "code",
   "execution_count": 66,
   "metadata": {},
   "outputs": [],
   "source": [
    "gower_m_i =gower.gower_matrix(df_i)"
   ]
  },
  {
   "cell_type": "code",
   "execution_count": 67,
   "metadata": {},
   "outputs": [
    {
     "data": {
      "text/plain": [
       "array([0.        , 0.13467252, 0.1572486 , 0.2813307 , 0.15877707,\n",
       "       0.26269484, 0.10920186, 0.2547721 , 0.1888526 , 0.11543649,\n",
       "       0.07757255, 0.26161423, 0.2362766 , 0.13871731, 0.13244508,\n",
       "       0.1067074 , 0.25602782, 0.29725757, 0.29530954, 0.24516314,\n",
       "       0.36669406, 0.1346462 , 0.10638318, 0.09371947, 0.18787609,\n",
       "       0.10915117, 0.2216981 , 0.1914403 , 0.06965397, 0.11620469,\n",
       "       0.18599392, 0.27390644, 0.3110042 , 0.11085524, 0.11081959,\n",
       "       0.27839252, 0.09420162, 0.09064697, 0.23483625, 0.0878252 ,\n",
       "       0.02286327, 0.12086874, 0.17527907, 0.22940134, 0.09715415,\n",
       "       0.09920938, 0.15316369, 0.28783208, 0.12480713, 0.13975154],\n",
       "      dtype=float32)"
      ]
     },
     "execution_count": 67,
     "metadata": {},
     "output_type": "execute_result"
    }
   ],
   "source": [
    "# first product\n",
    "prod_i =gower.gower_matrix(df_i)[0]\n",
    "prod_i"
   ]
  },
  {
   "cell_type": "code",
   "execution_count": 69,
   "metadata": {},
   "outputs": [
    {
     "data": {
      "text/html": [
       "<div>\n",
       "<style scoped>\n",
       "    .dataframe tbody tr th:only-of-type {\n",
       "        vertical-align: middle;\n",
       "    }\n",
       "\n",
       "    .dataframe tbody tr th {\n",
       "        vertical-align: top;\n",
       "    }\n",
       "\n",
       "    .dataframe thead th {\n",
       "        text-align: right;\n",
       "    }\n",
       "</style>\n",
       "<table border=\"1\" class=\"dataframe\">\n",
       "  <thead>\n",
       "    <tr style=\"text-align: right;\">\n",
       "      <th></th>\n",
       "      <th>centroid_name</th>\n",
       "      <th>centroid_brand</th>\n",
       "      <th>centroid_image</th>\n",
       "      <th>labelgroup</th>\n",
       "      <th>price</th>\n",
       "    </tr>\n",
       "  </thead>\n",
       "  <tbody>\n",
       "    <tr>\n",
       "      <th>1016</th>\n",
       "      <td>0.000311</td>\n",
       "      <td>0.0</td>\n",
       "      <td>0.117172</td>\n",
       "      <td>03</td>\n",
       "      <td>15007.0</td>\n",
       "    </tr>\n",
       "  </tbody>\n",
       "</table>\n",
       "</div>"
      ],
      "text/plain": [
       "      centroid_name  centroid_brand  centroid_image labelgroup    price\n",
       "1016       0.000311             0.0        0.117172         03  15007.0"
      ]
     },
     "execution_count": 69,
     "metadata": {},
     "output_type": "execute_result"
    }
   ],
   "source": [
    "df_i[prod_i==min(prod_i[prod_i!= min(prod_i)])] #minimum distance\n",
    "df_i[prod_i==max(prod_i)] #max distance"
   ]
  },
  {
   "cell_type": "markdown",
   "metadata": {},
   "source": [
    "### Clusters"
   ]
  },
  {
   "cell_type": "code",
   "execution_count": null,
   "metadata": {},
   "outputs": [],
   "source": [
    "X = np.array(df_products_prev[['centroid_image','centroid_name','centroid_brand','price']])\n",
    "Y = np.array(df_products_prev['labelgroup'])\n",
    "X_arr = np.array(X)\n",
    "X_arr = np.nan_to_num(X_arr)\n",
    "\n",
    "Nc = range(1, 20)\n",
    "kmeans = [KMeans(n_clusters=i) for i in Nc]\n",
    "kmeans\n",
    "score = [kmeans[i].fit(X_arr).score(X_arr) for i in range(len(kmeans))]\n",
    "score\n",
    "plt.plot(Nc,score)\n",
    "plt.xlabel('Number of Clusters')\n",
    "plt.ylabel('Score')\n",
    "plt.title('Elbow Curve')\n",
    "plt.show()"
   ]
  },
  {
   "cell_type": "code",
   "execution_count": 100,
   "metadata": {},
   "outputs": [],
   "source": [
    "kmeans = KMeans(n_clusters=5).fit(np.array(gower_m_i))\n",
    "centroids = kmeans.cluster_centers_\n"
   ]
  },
  {
   "cell_type": "code",
   "execution_count": 102,
   "metadata": {},
   "outputs": [],
   "source": [
    "from mpl_toolkits.mplot3d import Axes3D\n",
    "\n",
    "labels = kmeans.predict(np.array(gower_m_i))\n",
    "df_i['cluster'] = labels"
   ]
  },
  {
   "cell_type": "code",
   "execution_count": 113,
   "metadata": {},
   "outputs": [
    {
     "data": {
      "text/plain": [
       "array([0.00031594261032750055, 0.0003623041336453612,\n",
       "       0.00034186816741827754, 0.00039930287750545603,\n",
       "       0.0003350333920288445, 0.0003623041336453612,\n",
       "       0.0003756966381314468, 0.0003426206882256562,\n",
       "       0.0003967004070859011, 0.0002407231994370668,\n",
       "       0.00027619530467347663, 0.0002479603933920727,\n",
       "       0.0003770089178959259, 0.0002931115955408384,\n",
       "       0.00040857742673596045, 0.0003815145483594131,\n",
       "       0.0003197941082063518, 0.00029695990042037695,\n",
       "       0.0004638419402140105, 0.0003801680931626262,\n",
       "       0.0002851496453807057, 0.00034307862242621275,\n",
       "       0.0003657729686620349, 0.0004393154865597927,\n",
       "       0.0003399781862405075, 0.00031087531819264563,\n",
       "       0.0003462435673320758, 0.00043921702034510244,\n",
       "       0.0003618202882858167, 0.0003634397237940429,\n",
       "       0.00041750027370047646, 0.0003398238599189047,\n",
       "       0.0004142344437450943], dtype=object)"
      ]
     },
     "execution_count": 113,
     "metadata": {},
     "output_type": "execute_result"
    }
   ],
   "source": [
    "np.array(df_i[df_i['cluster']==i])[:,0]"
   ]
  },
  {
   "cell_type": "code",
   "execution_count": 116,
   "metadata": {},
   "outputs": [
    {
     "data": {
      "image/png": "[encoded data removed]",
      "text/plain": [
       "<Figure size 640x480 with 1 Axes>"
      ]
     },
     "metadata": {},
     "output_type": "display_data"
    }
   ],
   "source": [
    "for i in labels: \n",
    "    plt.scatter((np.array(df_i[df_i['cluster']==i])[:,0]),(np.array(df_i[df_i['cluster']==i])[:,1]),label=i)\n",
    "plt.show()"
   ]
  },
  {
   "cell_type": "code",
   "execution_count": null,
   "metadata": {},
   "outputs": [],
   "source": [
    "plt.scatter(df_i[df_i['cluster']==0],)"
   ]
  },
  {
   "cell_type": "code",
   "execution_count": 270,
   "metadata": {},
   "outputs": [
    {
     "data": {
      "text/html": [
       "<div>\n",
       "<style scoped>\n",
       "    .dataframe tbody tr th:only-of-type {\n",
       "        vertical-align: middle;\n",
       "    }\n",
       "\n",
       "    .dataframe tbody tr th {\n",
       "        vertical-align: top;\n",
       "    }\n",
       "\n",
       "    .dataframe thead th {\n",
       "        text-align: right;\n",
       "    }\n",
       "</style>\n",
       "<table border=\"1\" class=\"dataframe\">\n",
       "  <thead>\n",
       "    <tr style=\"text-align: right;\">\n",
       "      <th></th>\n",
       "      <th>price</th>\n",
       "      <th>centroid_name</th>\n",
       "      <th>centroid_brand</th>\n",
       "      <th>centroid_image</th>\n",
       "      <th>labelgroup</th>\n",
       "    </tr>\n",
       "  </thead>\n",
       "  <tbody>\n",
       "    <tr>\n",
       "      <th>884</th>\n",
       "      <td>111111111.0</td>\n",
       "      <td>0.00021</td>\n",
       "      <td>0.0</td>\n",
       "      <td>0.09763</td>\n",
       "      <td>30309</td>\n",
       "    </tr>\n",
       "  </tbody>\n",
       "</table>\n",
       "</div>"
      ],
      "text/plain": [
       "           price  centroid_name  centroid_brand  centroid_image  labelgroup\n",
       "884  111111111.0        0.00021             0.0         0.09763       30309"
      ]
     },
     "execution_count": 270,
     "metadata": {},
     "output_type": "execute_result"
    }
   ],
   "source": [
    "### Mejorar clusters filtrando por categoría y subcategoría predicha"
   ]
  }
 ],
 "metadata": {
  "kernelspec": {
   "display_name": "Python 3 (ipykernel)",
   "language": "python",
   "name": "python3"
  },
  "language_info": {
   "codemirror_mode": {
    "name": "ipython",
    "version": 3
   },
   "file_extension": ".py",
   "mimetype": "text/x-python",
   "name": "python",
   "nbconvert_exporter": "python",
   "pygments_lexer": "ipython3",
   "version": "3.10.5"
  }
 },
 "nbformat": 4,
 "nbformat_minor": 4
}
