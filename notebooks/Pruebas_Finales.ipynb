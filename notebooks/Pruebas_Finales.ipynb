{
 "cells": [
  {
   "cell_type": "markdown",
   "id": "03c9ca57",
   "metadata": {},
   "source": [
    "# Parte 6: Pruebas de similitud entre productos"
   ]
  },
  {
   "cell_type": "markdown",
   "id": "0f2e5e17",
   "metadata": {},
   "source": [
    "* Importar el modelo de clasificacion\n",
    "*  Descargar información de un producto que no se encuentre en la base de datos\n",
    "* Estandarización de la información \n",
    "* Graficar sus datos\n",
    "* Clasificar categoria y subcategoria \n",
    "* Importar dataframe que contiene features vectorizaciones \n",
    "* Encontrar sus productos similares "
   ]
  },
  {
   "cell_type": "code",
   "execution_count": 290,
   "id": "936f58a4",
   "metadata": {},
   "outputs": [],
   "source": [
    "import numpy as np\n",
    "import pandas as pd\n",
    "import os, glob,joblib,requests,regex,unidecode,io\n",
    "import cv2\n",
    "import plotly.express as px\n",
    "import matplotlib.pyplot as plt\n",
    "from tqdm import tqdm\n",
    "import shutil, sys\n",
    "import urllib.request \n",
    "from wordcloud import WordCloud\n",
    "import PIL\n",
    "import tensorflow as tf\n",
    "from pathlib import Path  \n",
    "from PIL import Image\n",
    "from io import BytesIO\n",
    "import gower\n",
    "from sklearn.cluster import KMeans\n",
    "import requests\n",
    "import requests\n",
    "from IPython.display import Image, display"
   ]
  },
  {
   "cell_type": "code",
   "execution_count": 3,
   "id": "c99a6786",
   "metadata": {},
   "outputs": [],
   "source": [
    "CWD = os.getcwd()"
   ]
  },
  {
   "cell_type": "markdown",
   "id": "fde1d311",
   "metadata": {},
   "source": [
    "### Cargar modelos utilizado para extracción de características de los productos"
   ]
  },
  {
   "cell_type": "code",
   "execution_count": 4,
   "id": "c6f685da",
   "metadata": {},
   "outputs": [
    {
     "name": "stderr",
     "output_type": "stream",
     "text": [
      "2022-09-21 17:38:43.682806: I tensorflow/core/platform/cpu_feature_guard.cc:193] This TensorFlow binary is optimized with oneAPI Deep Neural Network Library (oneDNN) to use the following CPU instructions in performance-critical operations:  AVX2 FMA\n",
      "To enable them in other operations, rebuild TensorFlow with the appropriate compiler flags.\n"
     ]
    },
    {
     "name": "stdout",
     "output_type": "stream",
     "text": [
      "WARNING:tensorflow:No training configuration found in save file, so the model was *not* compiled. Compile it manually.\n"
     ]
    }
   ],
   "source": [
    "filepath = Path(CWD+'/xception_model.pkl')  \n",
    "xception_model = joblib.load(filepath)"
   ]
  },
  {
   "cell_type": "code",
   "execution_count": 5,
   "id": "f47e639a",
   "metadata": {},
   "outputs": [],
   "source": [
    "filepath = Path(CWD+'/svc_classifier_cat.pkl')  # CATEGORIA\n",
    "svc_classifier_cat = joblib.load(filepath)\n",
    "\n",
    "filepath = Path(CWD+'/svc_classifier_subcat.pkl')  # SUBCATEGORIA\n",
    "svc_classifier_subcat = joblib.load(filepath)"
   ]
  },
  {
   "cell_type": "code",
   "execution_count": 6,
   "id": "c1ea4c3f",
   "metadata": {},
   "outputs": [],
   "source": [
    "filepath = Path(CWD+'/tfidf_vectorizer_cat.pkl')   # CATEGORIA\n",
    "tfidf_vectorizer_cat = joblib.load(filepath)\n",
    "\n",
    "filepath = Path(CWD+'/tfidf_vectorizer_subcat.pkl')   # CATEGORIA\n",
    "tfidf_vectorizer_subcat = joblib.load(filepath)"
   ]
  },
  {
   "cell_type": "markdown",
   "id": "84479050",
   "metadata": {},
   "source": [
    "#### Función de generación del id del grupo del producto "
   ]
  },
  {
   "cell_type": "code",
   "execution_count": null,
   "id": "12f2b20e",
   "metadata": {},
   "outputs": [],
   "source": [
    "def create_label_group(df_filt): \n",
    "    x = list(df_filt['numeric_cat'])[0]\n",
    "    y = list(df_filt['numeric_sub_cat'])[0]\n",
    "    label_group = str(x) + str(y)\n",
    "    return label_group"
   ]
  },
  {
   "cell_type": "markdown",
   "id": "6af546b3",
   "metadata": {},
   "source": [
    "## Importar dataframe con características de otros productos"
   ]
  },
  {
   "cell_type": "code",
   "execution_count": null,
   "id": "1867d4c7",
   "metadata": {},
   "outputs": [],
   "source": [
    "filepath = Path(CWD+'/dataset_products_feats.csv')  \n",
    "df_products_feats = pd.read_csv(filepath)\n",
    "df_products_info.rename(columns={'categoria':'numeric_cat','subcategoria':'numeric_sub_cat'},inplace=True)\n",
    "df_products_info['labelgroup']=[create_label_group(df_products_info.loc[[i]]) for i in range(len(df_products_info))]"
   ]
  },
  {
   "cell_type": "markdown",
   "id": "5ce3aa52",
   "metadata": {},
   "source": [
    "# Productos de prueba"
   ]
  },
  {
   "cell_type": "code",
   "execution_count": 7,
   "id": "db950c24",
   "metadata": {},
   "outputs": [],
   "source": [
    "cats = requests.get('https://api.mercadolibre.com/sites/MLA/categories')\n",
    "prod_categories= cats.json()"
   ]
  },
  {
   "cell_type": "markdown",
   "id": "4a88f1d1",
   "metadata": {},
   "source": [
    "Se generará un ejemplo de la entrada de un producto \"nuevo\" y se evaluará el resultado de la similitud con otros productos"
   ]
  },
  {
   "cell_type": "code",
   "execution_count": 205,
   "id": "10506e66",
   "metadata": {},
   "outputs": [],
   "source": [
    "offsets = list(range(600,650,50))\n",
    "results = []\n",
    "cat_id = 'MLA5725' #accesorios para vehículos\n",
    "for off in offsets:\n",
    "    url = f'https://api.mercadolibre.com/sites/MLA/search?category={cat_id}&offset={off}'\n",
    "    request = requests.get(url)\n",
    "    data = request.json()\n",
    "    results.append(data)"
   ]
  },
  {
   "cell_type": "markdown",
   "id": "d2ddbec7",
   "metadata": {},
   "source": [
    "### Preprocesamiento "
   ]
  },
  {
   "cell_type": "code",
   "execution_count": 206,
   "id": "008b5a9e",
   "metadata": {},
   "outputs": [],
   "source": [
    "def clean_name(text_name):\n",
    "    text = text_name\n",
    "    clean_text = regex.sub(r'\\&[a-z]+\\;', '', text)\n",
    "    clean_text = regex.sub(r\"\\n\", \" \", text)\n",
    "    clean_text = text.lower()\n",
    "    clean_text = unidecode.unidecode(clean_text)\n",
    "    clean_text = regex.sub(r'\\s+', ' ', clean_text)\n",
    "    clean_text = regex.sub('[^a-zA-Z]', ' ', clean_text).strip(' ')\n",
    "    cleaned_df = clean_text\n",
    "    return cleaned_df"
   ]
  },
  {
   "cell_type": "code",
   "execution_count": null,
   "id": "5c5a12ba",
   "metadata": {},
   "outputs": [],
   "source": [
    "def display_multiple_img(urls):\n",
    "    for url in urls:\n",
    "        r = requests.get(url) \n",
    "        display(Image(r.content) )"
   ]
  },
  {
   "cell_type": "code",
   "execution_count": 207,
   "id": "f5452aed",
   "metadata": {},
   "outputs": [],
   "source": [
    "nombre_prod = clean_name(results[0]['results'][0]['title'])\n",
    "marca = clean_name(results[0]['results'][0]['attributes'][0]['value_name'])\n",
    "img = results[0]['results'][0]['thumbnail']\n",
    "price = results[0]['results'][0]['price']"
   ]
  },
  {
   "cell_type": "code",
   "execution_count": 208,
   "id": "53f673c5",
   "metadata": {},
   "outputs": [],
   "source": [
    "df_test_prod = pd.DataFrame(list(zip([nombre_prod],[marca],[img],[price])),columns=['nombre_prod','marca','img','price'])"
   ]
  },
  {
   "cell_type": "code",
   "execution_count": 209,
   "id": "818bcca0",
   "metadata": {},
   "outputs": [
    {
     "data": {
      "text/html": [
       "<div>\n",
       "<style scoped>\n",
       "    .dataframe tbody tr th:only-of-type {\n",
       "        vertical-align: middle;\n",
       "    }\n",
       "\n",
       "    .dataframe tbody tr th {\n",
       "        vertical-align: top;\n",
       "    }\n",
       "\n",
       "    .dataframe thead th {\n",
       "        text-align: right;\n",
       "    }\n",
       "</style>\n",
       "<table border=\"1\" class=\"dataframe\">\n",
       "  <thead>\n",
       "    <tr style=\"text-align: right;\">\n",
       "      <th></th>\n",
       "      <th>nombre_prod</th>\n",
       "      <th>marca</th>\n",
       "      <th>img</th>\n",
       "      <th>price</th>\n",
       "    </tr>\n",
       "  </thead>\n",
       "  <tbody>\n",
       "    <tr>\n",
       "      <th>0</th>\n",
       "      <td>funda eco cuero ford ecosport mejor calidad ec...</td>\n",
       "      <td>dinamic</td>\n",
       "      <td>http://http2.mlstatic.com/D_837121-MLA50350555...</td>\n",
       "      <td>5889.05</td>\n",
       "    </tr>\n",
       "  </tbody>\n",
       "</table>\n",
       "</div>"
      ],
      "text/plain": [
       "                                         nombre_prod    marca  \\\n",
       "0  funda eco cuero ford ecosport mejor calidad ec...  dinamic   \n",
       "\n",
       "                                                 img    price  \n",
       "0  http://http2.mlstatic.com/D_837121-MLA50350555...  5889.05  "
      ]
     },
     "execution_count": 209,
     "metadata": {},
     "output_type": "execute_result"
    }
   ],
   "source": [
    "df_test_prod"
   ]
  },
  {
   "cell_type": "markdown",
   "id": "337cb741",
   "metadata": {},
   "source": [
    "El producto seleccionado aleatoriamente es una funda de cuero de automovil "
   ]
  },
  {
   "cell_type": "code",
   "execution_count": 304,
   "id": "111b6d09",
   "metadata": {},
   "outputs": [
    {
     "data": {
      "image/jpeg": "[encoded data removed]",
      "text/plain": [
       "<IPython.core.display.Image object>"
      ]
     },
     "metadata": {},
     "output_type": "display_data"
    }
   ],
   "source": [
    "img_url = list(df_test_prod['img'])[0]\n",
    "r = requests.get(img_url)\n",
    "display(Image(r.content))"
   ]
  },
  {
   "cell_type": "code",
   "execution_count": 342,
   "id": "d88d8ff0",
   "metadata": {},
   "outputs": [
    {
     "name": "stdout",
     "output_type": "stream",
     "text": [
      "['funda eco cuero ford ecosport mejor calidad ecocuero modelos']\n"
     ]
    }
   ],
   "source": [
    "print(list(df_test_prod['nombre_prod']))"
   ]
  },
  {
   "cell_type": "markdown",
   "id": "3fd555ca",
   "metadata": {},
   "source": [
    "### Extraer vectores de los textos "
   ]
  },
  {
   "cell_type": "code",
   "execution_count": 343,
   "id": "ad3200c3",
   "metadata": {},
   "outputs": [],
   "source": [
    "df_test_prod['name_vector'] = list(tfidf_vectorizer_cat.transform(df_test_prod['nombre_prod']).toarray())\n",
    "df_test_prod['brand_vector'] = list(tfidf_vectorizer_cat.transform(df_test_prod['marca']).toarray())"
   ]
  },
  {
   "cell_type": "markdown",
   "id": "980f8335",
   "metadata": {},
   "source": [
    "### Vectorización de la imagen"
   ]
  },
  {
   "cell_type": "code",
   "execution_count": 211,
   "id": "500a92c8",
   "metadata": {},
   "outputs": [],
   "source": [
    "urllib.request.urlretrieve(list(df_test_prod['img'])[0], \"sample.png\")\n",
    "\n",
    "img = PIL.Image.open(\"sample.png\")"
   ]
  },
  {
   "cell_type": "code",
   "execution_count": 212,
   "id": "4fa244b4",
   "metadata": {},
   "outputs": [
    {
     "name": "stdout",
     "output_type": "stream",
     "text": [
      "1/1 [==============================] - 1s 639ms/step\n"
     ]
    }
   ],
   "source": [
    "image = img.resize((299,299))\n",
    "image = np.expand_dims(image, axis=0)\n",
    "image = image/127.5\n",
    "image = image - 1.0\n",
    "feature = xception_model.predict(image)"
   ]
  },
  {
   "cell_type": "code",
   "execution_count": 213,
   "id": "b7de6ee7",
   "metadata": {},
   "outputs": [],
   "source": [
    "df_test_prod['image_feature'] = [feature[0]]"
   ]
  },
  {
   "cell_type": "code",
   "execution_count": 214,
   "id": "9bb9f1a0",
   "metadata": {},
   "outputs": [],
   "source": [
    "df_test_prod_feats = df_test_prod[['name_vector','brand_vector','price','image_feature']]"
   ]
  },
  {
   "cell_type": "markdown",
   "id": "51754be4",
   "metadata": {},
   "source": [
    "### Predecir clase y subclase"
   ]
  },
  {
   "cell_type": "code",
   "execution_count": 344,
   "id": "d9e1ff66",
   "metadata": {},
   "outputs": [
    {
     "name": "stdout",
     "output_type": "stream",
     "text": [
      "CLASE:  0\n"
     ]
    }
   ],
   "source": [
    "class_pred = svc_classifier_cat.predict(list(tfidf_vectorizer_cat.transform(df_test_prod['nombre_prod']).toarray()))[0]\n",
    "print(\"CLASE: \",class_pred)"
   ]
  },
  {
   "cell_type": "code",
   "execution_count": 345,
   "id": "f141dc5a",
   "metadata": {},
   "outputs": [
    {
     "name": "stdout",
     "output_type": "stream",
     "text": [
      "SUBCLASE:  3\n"
     ]
    }
   ],
   "source": [
    "subclass_pred = svc_classifier_subcat.predict(list(tfidf_vectorizer_subcat.transform(df_test_prod['nombre_prod']).toarray()))[0]\n",
    "print(\"SUBCLASE: \", subclass_pred)"
   ]
  },
  {
   "cell_type": "markdown",
   "id": "5436d81a",
   "metadata": {},
   "source": [
    "### Generar el id del grupo al que pertenece el producto"
   ]
  },
  {
   "cell_type": "code",
   "execution_count": 218,
   "id": "a23714ba",
   "metadata": {},
   "outputs": [
    {
     "name": "stderr",
     "output_type": "stream",
     "text": [
      "/var/folders/_2/mn5plcvd0135m5y5pgyz6zpm0000gn/T/ipykernel_50607/3434840390.py:2: SettingWithCopyWarning: \n",
      "A value is trying to be set on a copy of a slice from a DataFrame.\n",
      "Try using .loc[row_indexer,col_indexer] = value instead\n",
      "\n",
      "See the caveats in the documentation: https://pandas.pydata.org/pandas-docs/stable/user_guide/indexing.html#returning-a-view-versus-a-copy\n",
      "  df_test_prod_feats['labelgroup'] = str(label_group)\n"
     ]
    }
   ],
   "source": [
    "label_group = str(class_pred)+str(subclass_pred)\n",
    "df_test_prod_feats['labelgroup'] = str(label_group)"
   ]
  },
  {
   "cell_type": "code",
   "execution_count": 225,
   "id": "54bb1f1e",
   "metadata": {},
   "outputs": [
    {
     "data": {
      "text/html": [
       "<div>\n",
       "<style scoped>\n",
       "    .dataframe tbody tr th:only-of-type {\n",
       "        vertical-align: middle;\n",
       "    }\n",
       "\n",
       "    .dataframe tbody tr th {\n",
       "        vertical-align: top;\n",
       "    }\n",
       "\n",
       "    .dataframe thead th {\n",
       "        text-align: right;\n",
       "    }\n",
       "</style>\n",
       "<table border=\"1\" class=\"dataframe\">\n",
       "  <thead>\n",
       "    <tr style=\"text-align: right;\">\n",
       "      <th></th>\n",
       "      <th>name_vector</th>\n",
       "      <th>brand_vector</th>\n",
       "      <th>price</th>\n",
       "      <th>image_feature</th>\n",
       "      <th>labelgroup</th>\n",
       "    </tr>\n",
       "  </thead>\n",
       "  <tbody>\n",
       "    <tr>\n",
       "      <th>0</th>\n",
       "      <td>[0.0, 0.0, 0.0, 0.0, 0.0, 0.0, 0.0, 0.0, 0.0, ...</td>\n",
       "      <td>[0.0, 0.0, 0.0, 0.0, 0.0, 0.0, 0.0, 0.0, 0.0, ...</td>\n",
       "      <td>5889.05</td>\n",
       "      <td>[0.16658403, 9.875476e-05, 0.0, 0.0, 0.0156745...</td>\n",
       "      <td>03</td>\n",
       "    </tr>\n",
       "  </tbody>\n",
       "</table>\n",
       "</div>"
      ],
      "text/plain": [
       "                                         name_vector  \\\n",
       "0  [0.0, 0.0, 0.0, 0.0, 0.0, 0.0, 0.0, 0.0, 0.0, ...   \n",
       "\n",
       "                                        brand_vector    price  \\\n",
       "0  [0.0, 0.0, 0.0, 0.0, 0.0, 0.0, 0.0, 0.0, 0.0, ...  5889.05   \n",
       "\n",
       "                                       image_feature labelgroup  \n",
       "0  [0.16658403, 9.875476e-05, 0.0, 0.0, 0.0156745...         03  "
      ]
     },
     "execution_count": 225,
     "metadata": {},
     "output_type": "execute_result"
    }
   ],
   "source": [
    "df_test_prod_feats"
   ]
  },
  {
   "cell_type": "markdown",
   "id": "7ac36912",
   "metadata": {},
   "source": [
    "* El producto cuenta con las 5 características necesarias para comparar con los otros productos de la base de datos: vector de su nombre, vector de su marca, precio, vector de su imagen y id del gupo "
   ]
  },
  {
   "cell_type": "markdown",
   "id": "611403bb",
   "metadata": {},
   "source": [
    "#### Cálculo del centroide de los vectores para su comparación "
   ]
  },
  {
   "cell_type": "code",
   "execution_count": 226,
   "id": "37edab49",
   "metadata": {},
   "outputs": [
    {
     "name": "stderr",
     "output_type": "stream",
     "text": [
      "/var/folders/_2/mn5plcvd0135m5y5pgyz6zpm0000gn/T/ipykernel_50607/3289489201.py:1: SettingWithCopyWarning: \n",
      "A value is trying to be set on a copy of a slice from a DataFrame.\n",
      "Try using .loc[row_indexer,col_indexer] = value instead\n",
      "\n",
      "See the caveats in the documentation: https://pandas.pydata.org/pandas-docs/stable/user_guide/indexing.html#returning-a-view-versus-a-copy\n",
      "  df_test_prod_feats['centroid_name'] = [np.mean(n) for n in df_test_prod_feats['name_vector']]\n"
     ]
    }
   ],
   "source": [
    "df_test_prod_feats['centroid_name'] = [np.mean(n) for n in df_test_prod_feats['name_vector']]\n",
    "df_test_prod_feats['centroid_brand'] = [np.mean(n) for n in df_test_prod_feats['brand_vector']]\n",
    "df_test_prod_feats['centroid_image'] = [np.mean(n) for n in df_test_prod_feats['image_feature']]"
   ]
  },
  {
   "cell_type": "markdown",
   "id": "0df069ac",
   "metadata": {},
   "source": [
    "## Filtro: \n",
    "* identificar los productos que hacen parte del mismo labelgroup"
   ]
  },
  {
   "cell_type": "code",
   "execution_count": 258,
   "id": "923a11ca",
   "metadata": {},
   "outputs": [
    {
     "data": {
      "text/html": [
       "<div>\n",
       "<style scoped>\n",
       "    .dataframe tbody tr th:only-of-type {\n",
       "        vertical-align: middle;\n",
       "    }\n",
       "\n",
       "    .dataframe tbody tr th {\n",
       "        vertical-align: top;\n",
       "    }\n",
       "\n",
       "    .dataframe thead th {\n",
       "        text-align: right;\n",
       "    }\n",
       "</style>\n",
       "<table border=\"1\" class=\"dataframe\">\n",
       "  <thead>\n",
       "    <tr style=\"text-align: right;\">\n",
       "      <th></th>\n",
       "      <th>name</th>\n",
       "      <th>numeric_cat</th>\n",
       "      <th>numeric_sub_cat</th>\n",
       "      <th>name_vector</th>\n",
       "      <th>brand_vector</th>\n",
       "      <th>price</th>\n",
       "      <th>image_feature</th>\n",
       "      <th>labelgroup</th>\n",
       "      <th>url_imagen</th>\n",
       "      <th>centroid_name</th>\n",
       "      <th>centroid_brand</th>\n",
       "      <th>centroid_image</th>\n",
       "    </tr>\n",
       "  </thead>\n",
       "  <tbody>\n",
       "    <tr>\n",
       "      <th>0</th>\n",
       "      <td>48    kit asientos auto cuero eco cubre volant...</td>\n",
       "      <td>0</td>\n",
       "      <td>3</td>\n",
       "      <td>[0. 0. 0. ... 0. 0. 0.]</td>\n",
       "      <td>[0. 0. 0. ... 0. 0. 0.]</td>\n",
       "      <td>13999.00</td>\n",
       "      <td>[0.0792483389377594, 0.008941839449107647, 0.1...</td>\n",
       "      <td>03</td>\n",
       "      <td>http://http2.mlstatic.com/D_825151-MLA44504428...</td>\n",
       "      <td>0.000213</td>\n",
       "      <td>0.000000</td>\n",
       "      <td>0.111302</td>\n",
       "    </tr>\n",
       "    <tr>\n",
       "      <th>2</th>\n",
       "      <td>74    juego   tazas rodado    chevrolet agile ...</td>\n",
       "      <td>0</td>\n",
       "      <td>3</td>\n",
       "      <td>[0. 0. 0. ... 0. 0. 0.]</td>\n",
       "      <td>[0. 0. 0. ... 0. 0. 0.]</td>\n",
       "      <td>6059.99</td>\n",
       "      <td>[0.25299349427223206, 0.1530793011188507, 9.23...</td>\n",
       "      <td>03</td>\n",
       "      <td>http://http2.mlstatic.com/D_617422-MLA47397731...</td>\n",
       "      <td>0.000257</td>\n",
       "      <td>0.000000</td>\n",
       "      <td>0.086682</td>\n",
       "    </tr>\n",
       "    <tr>\n",
       "      <th>5</th>\n",
       "      <td>60    traba volante antirrobo auto camioneta  ...</td>\n",
       "      <td>0</td>\n",
       "      <td>3</td>\n",
       "      <td>[0. 0. 0. ... 0. 0. 0.]</td>\n",
       "      <td>[0. 0. 0. ... 0. 0. 0.]</td>\n",
       "      <td>2756.00</td>\n",
       "      <td>[0.2211354672908783, 0.0, 0.06428234279155731,...</td>\n",
       "      <td>03</td>\n",
       "      <td>http://http2.mlstatic.com/D_922728-MLA48587720...</td>\n",
       "      <td>0.000230</td>\n",
       "      <td>0.000082</td>\n",
       "      <td>0.147074</td>\n",
       "    </tr>\n",
       "    <tr>\n",
       "      <th>59</th>\n",
       "      <td>61    cubre alfombra goma pesada universal   p...</td>\n",
       "      <td>0</td>\n",
       "      <td>3</td>\n",
       "      <td>[0. 0. 0. ... 0. 0. 0.]</td>\n",
       "      <td>[0. 0. 0. ... 0. 0. 0.]</td>\n",
       "      <td>2589.99</td>\n",
       "      <td>[0.1732514500617981, 0.5408852100372314, 0.0, ...</td>\n",
       "      <td>03</td>\n",
       "      <td>http://http2.mlstatic.com/D_957791-MLA48013661...</td>\n",
       "      <td>0.000292</td>\n",
       "      <td>0.000000</td>\n",
       "      <td>0.131293</td>\n",
       "    </tr>\n",
       "    <tr>\n",
       "      <th>61</th>\n",
       "      <td>75    juego x   tazas rodado    fiat uno fire ...</td>\n",
       "      <td>0</td>\n",
       "      <td>3</td>\n",
       "      <td>[0. 0. 0. ... 0. 0. 0.]</td>\n",
       "      <td>[0. 0. 0. ... 0. 0. 0.]</td>\n",
       "      <td>5579.99</td>\n",
       "      <td>[0.08201831579208374, 0.004005333874374628, 0....</td>\n",
       "      <td>03</td>\n",
       "      <td>http://http2.mlstatic.com/D_829964-MLA49434325...</td>\n",
       "      <td>0.000255</td>\n",
       "      <td>0.000000</td>\n",
       "      <td>0.131210</td>\n",
       "    </tr>\n",
       "  </tbody>\n",
       "</table>\n",
       "</div>"
      ],
      "text/plain": [
       "                                                 name  numeric_cat  \\\n",
       "0   48    kit asientos auto cuero eco cubre volant...            0   \n",
       "2   74    juego   tazas rodado    chevrolet agile ...            0   \n",
       "5   60    traba volante antirrobo auto camioneta  ...            0   \n",
       "59  61    cubre alfombra goma pesada universal   p...            0   \n",
       "61  75    juego x   tazas rodado    fiat uno fire ...            0   \n",
       "\n",
       "    numeric_sub_cat              name_vector             brand_vector  \\\n",
       "0                 3  [0. 0. 0. ... 0. 0. 0.]  [0. 0. 0. ... 0. 0. 0.]   \n",
       "2                 3  [0. 0. 0. ... 0. 0. 0.]  [0. 0. 0. ... 0. 0. 0.]   \n",
       "5                 3  [0. 0. 0. ... 0. 0. 0.]  [0. 0. 0. ... 0. 0. 0.]   \n",
       "59                3  [0. 0. 0. ... 0. 0. 0.]  [0. 0. 0. ... 0. 0. 0.]   \n",
       "61                3  [0. 0. 0. ... 0. 0. 0.]  [0. 0. 0. ... 0. 0. 0.]   \n",
       "\n",
       "       price                                      image_feature labelgroup  \\\n",
       "0   13999.00  [0.0792483389377594, 0.008941839449107647, 0.1...         03   \n",
       "2    6059.99  [0.25299349427223206, 0.1530793011188507, 9.23...         03   \n",
       "5    2756.00  [0.2211354672908783, 0.0, 0.06428234279155731,...         03   \n",
       "59   2589.99  [0.1732514500617981, 0.5408852100372314, 0.0, ...         03   \n",
       "61   5579.99  [0.08201831579208374, 0.004005333874374628, 0....         03   \n",
       "\n",
       "                                           url_imagen  centroid_name  \\\n",
       "0   http://http2.mlstatic.com/D_825151-MLA44504428...       0.000213   \n",
       "2   http://http2.mlstatic.com/D_617422-MLA47397731...       0.000257   \n",
       "5   http://http2.mlstatic.com/D_922728-MLA48587720...       0.000230   \n",
       "59  http://http2.mlstatic.com/D_957791-MLA48013661...       0.000292   \n",
       "61  http://http2.mlstatic.com/D_829964-MLA49434325...       0.000255   \n",
       "\n",
       "    centroid_brand  centroid_image  \n",
       "0         0.000000        0.111302  \n",
       "2         0.000000        0.086682  \n",
       "5         0.000082        0.147074  \n",
       "59        0.000000        0.131293  \n",
       "61        0.000000        0.131210  "
      ]
     },
     "execution_count": 258,
     "metadata": {},
     "output_type": "execute_result"
    }
   ],
   "source": [
    "df_filt = df_products_info[df_products_info['labelgroup']==label_group]\n",
    "df_filt.head()"
   ]
  },
  {
   "cell_type": "code",
   "execution_count": 242,
   "id": "57f682e8",
   "metadata": {},
   "outputs": [
    {
     "data": {
      "text/html": [
       "<div>\n",
       "<style scoped>\n",
       "    .dataframe tbody tr th:only-of-type {\n",
       "        vertical-align: middle;\n",
       "    }\n",
       "\n",
       "    .dataframe tbody tr th {\n",
       "        vertical-align: top;\n",
       "    }\n",
       "\n",
       "    .dataframe thead th {\n",
       "        text-align: right;\n",
       "    }\n",
       "</style>\n",
       "<table border=\"1\" class=\"dataframe\">\n",
       "  <thead>\n",
       "    <tr style=\"text-align: right;\">\n",
       "      <th></th>\n",
       "      <th>centroid_name</th>\n",
       "      <th>centroid_brand</th>\n",
       "      <th>price</th>\n",
       "      <th>centroid_image</th>\n",
       "    </tr>\n",
       "  </thead>\n",
       "  <tbody>\n",
       "    <tr>\n",
       "      <th>0</th>\n",
       "      <td>0.000282</td>\n",
       "      <td>0.0</td>\n",
       "      <td>5889.05</td>\n",
       "      <td>0.098141</td>\n",
       "    </tr>\n",
       "  </tbody>\n",
       "</table>\n",
       "</div>"
      ],
      "text/plain": [
       "   centroid_name  centroid_brand    price  centroid_image\n",
       "0       0.000282             0.0  5889.05        0.098141"
      ]
     },
     "execution_count": 242,
     "metadata": {},
     "output_type": "execute_result"
    }
   ],
   "source": [
    "df_test_prod_feats[['centroid_name','centroid_brand','price','centroid_image']]"
   ]
  },
  {
   "cell_type": "code",
   "execution_count": 243,
   "id": "c7bd4c7e",
   "metadata": {},
   "outputs": [
    {
     "data": {
      "text/html": [
       "<div>\n",
       "<style scoped>\n",
       "    .dataframe tbody tr th:only-of-type {\n",
       "        vertical-align: middle;\n",
       "    }\n",
       "\n",
       "    .dataframe tbody tr th {\n",
       "        vertical-align: top;\n",
       "    }\n",
       "\n",
       "    .dataframe thead th {\n",
       "        text-align: right;\n",
       "    }\n",
       "</style>\n",
       "<table border=\"1\" class=\"dataframe\">\n",
       "  <thead>\n",
       "    <tr style=\"text-align: right;\">\n",
       "      <th></th>\n",
       "      <th>centroid_name</th>\n",
       "      <th>centroid_brand</th>\n",
       "      <th>price</th>\n",
       "      <th>centroid_image</th>\n",
       "    </tr>\n",
       "  </thead>\n",
       "  <tbody>\n",
       "    <tr>\n",
       "      <th>0</th>\n",
       "      <td>0.000213</td>\n",
       "      <td>0.000000</td>\n",
       "      <td>13999.00</td>\n",
       "      <td>0.111302</td>\n",
       "    </tr>\n",
       "    <tr>\n",
       "      <th>1</th>\n",
       "      <td>0.000196</td>\n",
       "      <td>0.000000</td>\n",
       "      <td>17787.00</td>\n",
       "      <td>0.117811</td>\n",
       "    </tr>\n",
       "    <tr>\n",
       "      <th>2</th>\n",
       "      <td>0.000257</td>\n",
       "      <td>0.000000</td>\n",
       "      <td>6059.99</td>\n",
       "      <td>0.086682</td>\n",
       "    </tr>\n",
       "    <tr>\n",
       "      <th>3</th>\n",
       "      <td>0.000213</td>\n",
       "      <td>0.000000</td>\n",
       "      <td>13999.00</td>\n",
       "      <td>0.111302</td>\n",
       "    </tr>\n",
       "    <tr>\n",
       "      <th>4</th>\n",
       "      <td>0.000113</td>\n",
       "      <td>0.000000</td>\n",
       "      <td>1150.00</td>\n",
       "      <td>0.123773</td>\n",
       "    </tr>\n",
       "    <tr>\n",
       "      <th>...</th>\n",
       "      <td>...</td>\n",
       "      <td>...</td>\n",
       "      <td>...</td>\n",
       "      <td>...</td>\n",
       "    </tr>\n",
       "    <tr>\n",
       "      <th>19266</th>\n",
       "      <td>0.000163</td>\n",
       "      <td>0.000000</td>\n",
       "      <td>2590.00</td>\n",
       "      <td>0.079296</td>\n",
       "    </tr>\n",
       "    <tr>\n",
       "      <th>19267</th>\n",
       "      <td>0.000132</td>\n",
       "      <td>0.000139</td>\n",
       "      <td>3850.00</td>\n",
       "      <td>0.101924</td>\n",
       "    </tr>\n",
       "    <tr>\n",
       "      <th>19268</th>\n",
       "      <td>0.000164</td>\n",
       "      <td>0.000082</td>\n",
       "      <td>49000.00</td>\n",
       "      <td>0.117044</td>\n",
       "    </tr>\n",
       "    <tr>\n",
       "      <th>19269</th>\n",
       "      <td>0.000133</td>\n",
       "      <td>0.000000</td>\n",
       "      <td>43000.00</td>\n",
       "      <td>0.109853</td>\n",
       "    </tr>\n",
       "    <tr>\n",
       "      <th>19270</th>\n",
       "      <td>0.000082</td>\n",
       "      <td>0.000000</td>\n",
       "      <td>70000.00</td>\n",
       "      <td>0.059661</td>\n",
       "    </tr>\n",
       "  </tbody>\n",
       "</table>\n",
       "<p>19271 rows × 4 columns</p>\n",
       "</div>"
      ],
      "text/plain": [
       "       centroid_name  centroid_brand     price  centroid_image\n",
       "0           0.000213        0.000000  13999.00        0.111302\n",
       "1           0.000196        0.000000  17787.00        0.117811\n",
       "2           0.000257        0.000000   6059.99        0.086682\n",
       "3           0.000213        0.000000  13999.00        0.111302\n",
       "4           0.000113        0.000000   1150.00        0.123773\n",
       "...              ...             ...       ...             ...\n",
       "19266       0.000163        0.000000   2590.00        0.079296\n",
       "19267       0.000132        0.000139   3850.00        0.101924\n",
       "19268       0.000164        0.000082  49000.00        0.117044\n",
       "19269       0.000133        0.000000  43000.00        0.109853\n",
       "19270       0.000082        0.000000  70000.00        0.059661\n",
       "\n",
       "[19271 rows x 4 columns]"
      ]
     },
     "execution_count": 243,
     "metadata": {},
     "output_type": "execute_result"
    }
   ],
   "source": [
    "df_filt[['centroid_name','centroid_brand','price','centroid_image']]"
   ]
  },
  {
   "cell_type": "markdown",
   "id": "452db968",
   "metadata": {},
   "source": [
    "Concatenar el resultado del producto nuevo y de los productos pertenecientes al mismo labelgroup, para encontrar sus similitudes"
   ]
  },
  {
   "cell_type": "code",
   "execution_count": 259,
   "id": "dedaa7fc",
   "metadata": {},
   "outputs": [],
   "source": [
    "frames = [df_test_prod_feats[['centroid_name','centroid_brand','price','centroid_image']],df_filt[['centroid_name','centroid_brand','price','centroid_image']]]\n",
    "result = pd.concat(frames)"
   ]
  },
  {
   "cell_type": "markdown",
   "id": "6f974bc2",
   "metadata": {},
   "source": [
    "# Gower's distance"
   ]
  },
  {
   "cell_type": "markdown",
   "id": "d36263d0",
   "metadata": {},
   "source": [
    "#### Calcular la distancia entre el producto nuevo y los otros pertenecientes a su labelgroup"
   ]
  },
  {
   "cell_type": "code",
   "execution_count": 352,
   "id": "d1fbdc12",
   "metadata": {},
   "outputs": [
    {
     "data": {
      "text/plain": [
       "array([0.        , 0.16102794, 0.06184295, 0.490086  , 0.10724864,\n",
       "       0.11587177, 0.41528347, 0.14572397, 0.08967274, 0.10465489,\n",
       "       0.07707532, 0.04498137, 0.17977396, 0.56473285, 0.12143521,\n",
       "       0.1878931 , 0.20976792, 0.2024333 , 0.45767716, 0.4084026 ,\n",
       "       0.47137576, 0.43261376, 0.24011157, 0.11917765, 0.16466168,\n",
       "       0.11585885, 0.09391698, 0.45116812, 0.5189458 , 0.38799027,\n",
       "       0.16462511, 0.07828642, 0.40219164, 0.36215255, 0.08103844,\n",
       "       0.51254934, 0.10431044, 0.09914795, 0.0524248 , 0.15397003,\n",
       "       0.07685644, 0.22191267, 0.22608016, 0.4953556 , 0.13245638,\n",
       "       0.04639006, 0.04594035, 0.00541423, 0.5442139 , 0.14973152,\n",
       "       0.06334443], dtype=float32)"
      ]
     },
     "execution_count": 352,
     "metadata": {},
     "output_type": "execute_result"
    }
   ],
   "source": [
    "# max similarity \n",
    "gower_m_0 =gower.gower_matrix(result)[0]\n",
    "gower_m_0"
   ]
  },
  {
   "cell_type": "markdown",
   "id": "0aadd11e",
   "metadata": {},
   "source": [
    "* Encontrar el producto con el cual existe una distancia mínima con el producto ingresaso, es decir con mayor similitud"
   ]
  },
  {
   "cell_type": "code",
   "execution_count": 359,
   "id": "58b6c944",
   "metadata": {},
   "outputs": [
    {
     "data": {
      "text/html": [
       "<div>\n",
       "<style scoped>\n",
       "    .dataframe tbody tr th:only-of-type {\n",
       "        vertical-align: middle;\n",
       "    }\n",
       "\n",
       "    .dataframe tbody tr th {\n",
       "        vertical-align: top;\n",
       "    }\n",
       "\n",
       "    .dataframe thead th {\n",
       "        text-align: right;\n",
       "    }\n",
       "</style>\n",
       "<table border=\"1\" class=\"dataframe\">\n",
       "  <thead>\n",
       "    <tr style=\"text-align: right;\">\n",
       "      <th></th>\n",
       "      <th>centroid_name</th>\n",
       "      <th>centroid_brand</th>\n",
       "      <th>price</th>\n",
       "      <th>centroid_image</th>\n",
       "      <th>clusters</th>\n",
       "    </tr>\n",
       "  </thead>\n",
       "  <tbody>\n",
       "    <tr>\n",
       "      <th>1087</th>\n",
       "      <td>0.000281</td>\n",
       "      <td>0.0</td>\n",
       "      <td>6529.99</td>\n",
       "      <td>0.098893</td>\n",
       "      <td>0</td>\n",
       "    </tr>\n",
       "  </tbody>\n",
       "</table>\n",
       "</div>"
      ],
      "text/plain": [
       "      centroid_name  centroid_brand    price  centroid_image  clusters\n",
       "1087       0.000281             0.0  6529.99        0.098893         0"
      ]
     },
     "execution_count": 359,
     "metadata": {},
     "output_type": "execute_result"
    }
   ],
   "source": [
    "min_dist = result[gower_m_0==min(gower_m_0[gower_m_0!= min(gower_m_0)])] #minimum distance\n",
    "min_dist"
   ]
  },
  {
   "cell_type": "code",
   "execution_count": 363,
   "id": "08bbefff",
   "metadata": {},
   "outputs": [
    {
     "data": {
      "text/plain": [
       "1087"
      ]
     },
     "execution_count": 363,
     "metadata": {},
     "output_type": "execute_result"
    }
   ],
   "source": [
    "ind_min = min_dist.index[0] #Conservar este índice para el posterior análisis"
   ]
  },
  {
   "cell_type": "markdown",
   "id": "417188ec",
   "metadata": {},
   "source": [
    "* Encontrar el producto con el cual existe una distancia máxima con el producto ingresado, es decir con menor similitud"
   ]
  },
  {
   "cell_type": "code",
   "execution_count": 364,
   "id": "ca5e4f98",
   "metadata": {},
   "outputs": [
    {
     "data": {
      "text/html": [
       "<div>\n",
       "<style scoped>\n",
       "    .dataframe tbody tr th:only-of-type {\n",
       "        vertical-align: middle;\n",
       "    }\n",
       "\n",
       "    .dataframe tbody tr th {\n",
       "        vertical-align: top;\n",
       "    }\n",
       "\n",
       "    .dataframe thead th {\n",
       "        text-align: right;\n",
       "    }\n",
       "</style>\n",
       "<table border=\"1\" class=\"dataframe\">\n",
       "  <thead>\n",
       "    <tr style=\"text-align: right;\">\n",
       "      <th></th>\n",
       "      <th>centroid_name</th>\n",
       "      <th>centroid_brand</th>\n",
       "      <th>price</th>\n",
       "      <th>centroid_image</th>\n",
       "      <th>clusters</th>\n",
       "    </tr>\n",
       "  </thead>\n",
       "  <tbody>\n",
       "    <tr>\n",
       "      <th>128</th>\n",
       "      <td>0.000181</td>\n",
       "      <td>0.000082</td>\n",
       "      <td>46596.0</td>\n",
       "      <td>0.123428</td>\n",
       "      <td>1</td>\n",
       "    </tr>\n",
       "  </tbody>\n",
       "</table>\n",
       "</div>"
      ],
      "text/plain": [
       "     centroid_name  centroid_brand    price  centroid_image  clusters\n",
       "128       0.000181        0.000082  46596.0        0.123428         1"
      ]
     },
     "execution_count": 364,
     "metadata": {},
     "output_type": "execute_result"
    }
   ],
   "source": [
    "max_dist = result[gower_m_0==max(gower_m_0)] #max distance\n",
    "max_dist"
   ]
  },
  {
   "cell_type": "code",
   "execution_count": 365,
   "id": "6ec8be43",
   "metadata": {},
   "outputs": [],
   "source": [
    "ind_max = max_dist.index[0] #Conservar este índice para el posterior análisis"
   ]
  },
  {
   "cell_type": "markdown",
   "id": "cf2e0bab",
   "metadata": {},
   "source": [
    "#### Calcular las distancias entre todos los productos pertenecientes al labelgroup"
   ]
  },
  {
   "cell_type": "code",
   "execution_count": 261,
   "id": "269017c4",
   "metadata": {},
   "outputs": [],
   "source": [
    "gower_m_i =gower.gower_matrix(result)"
   ]
  },
  {
   "cell_type": "markdown",
   "id": "5aa3ac51",
   "metadata": {},
   "source": [
    "#### Encontrar clusters para las distancias generadas"
   ]
  },
  {
   "cell_type": "code",
   "execution_count": 391,
   "id": "88078e47",
   "metadata": {},
   "outputs": [],
   "source": [
    "kmeans = KMeans(n_clusters=5).fit(np.array(gower_m_i))\n",
    "centroids = kmeans.cluster_centers_\n",
    "labels = kmeans.predict(np.array(gower_m_i))\n",
    "result['clusters']=labels"
   ]
  },
  {
   "cell_type": "code",
   "execution_count": 396,
   "id": "617d73ee",
   "metadata": {},
   "outputs": [
    {
     "data": {
      "text/plain": [
       "0    14\n",
       "3    14\n",
       "1    13\n",
       "4     8\n",
       "2     2\n",
       "Name: clusters, dtype: int64"
      ]
     },
     "execution_count": 396,
     "metadata": {},
     "output_type": "execute_result"
    }
   ],
   "source": [
    "result['clusters'].value_counts()"
   ]
  },
  {
   "cell_type": "markdown",
   "id": "b11929eb",
   "metadata": {},
   "source": [
    "#### Extraer los índices de los clusters generados para evaluarlos"
   ]
  },
  {
   "cell_type": "code",
   "execution_count": 397,
   "id": "0ae652fe",
   "metadata": {},
   "outputs": [],
   "source": [
    "INDEX_0 = result[result['clusters'] == 0].index\n",
    "INDEX_1 = result[result['clusters'] == 1].index\n",
    "INDEX_2 = result[result['clusters'] == 2].index\n",
    "INDEX_3 = result[result['clusters'] == 3].index\n",
    "INDEX_4 = result[result['clusters'] == 4].index"
   ]
  },
  {
   "cell_type": "code",
   "execution_count": 335,
   "id": "89bae784",
   "metadata": {},
   "outputs": [],
   "source": [
    "df_products_out[df_products_out['index'].isin(INDEX_2)][['name','url_imagen']] \n",
    "list_url_2 = list(df_products_out[df_products_out['index'].isin(INDEX_2)]['url_imagen'])"
   ]
  },
  {
   "cell_type": "markdown",
   "id": "3f1775b6",
   "metadata": {},
   "source": [
    "#### Encontrar a cuál cluster pertenece el producto más similar:"
   ]
  },
  {
   "cell_type": "code",
   "execution_count": 398,
   "id": "635d0fc8",
   "metadata": {},
   "outputs": [
    {
     "name": "stdout",
     "output_type": "stream",
     "text": [
      "True False False False False\n"
     ]
    }
   ],
   "source": [
    "print(ind_min in list(INDEX_0),ind_min in list(INDEX_1),ind_min in list(INDEX_2),ind_min in list(INDEX_3),ind_min in list(INDEX_4))"
   ]
  },
  {
   "cell_type": "markdown",
   "id": "a9804a64",
   "metadata": {},
   "source": [
    "* El producto ingresado corresponde al Cluster 0: "
   ]
  },
  {
   "cell_type": "code",
   "execution_count": 394,
   "id": "13ef7999",
   "metadata": {},
   "outputs": [
    {
     "data": {
      "image/jpeg": "[encoded data removed]",
      "text/plain": [
       "<IPython.core.display.Image object>"
      ]
     },
     "metadata": {},
     "output_type": "display_data"
    },
    {
     "data": {
      "image/jpeg": "[encoded data removed]",
      "text/plain": [
       "<IPython.core.display.Image object>"
      ]
     },
     "metadata": {},
     "output_type": "display_data"
    },
    {
     "data": {
      "image/jpeg": "[encoded data removed]",
      "text/plain": [
       "<IPython.core.display.Image object>"
      ]
     },
     "metadata": {},
     "output_type": "display_data"
    },
    {
     "data": {
      "image/jpeg": "[encoded data removed]",
      "text/plain": [
       "<IPython.core.display.Image object>"
      ]
     },
     "metadata": {},
     "output_type": "display_data"
    },
    {
     "data": {
      "image/jpeg": "[encoded data removed]",
      "text/plain": [
       "<IPython.core.display.Image object>"
      ]
     },
     "metadata": {},
     "output_type": "display_data"
    },
    {
     "data": {
      "image/jpeg": "[encoded data removed]",
      "text/plain": [
       "<IPython.core.display.Image object>"
      ]
     },
     "metadata": {},
     "output_type": "display_data"
    },
    {
     "data": {
      "image/jpeg": "[encoded data removed]",
      "text/plain": [
       "<IPython.core.display.Image object>"
      ]
     },
     "metadata": {},
     "output_type": "display_data"
    },
    {
     "data": {
      "image/jpeg": "[encoded data removed]",
      "text/plain": [
       "<IPython.core.display.Image object>"
      ]
     },
     "metadata": {},
     "output_type": "display_data"
    },
    {
     "data": {
      "image/jpeg": "[encoded data removed]",
      "text/plain": [
       "<IPython.core.display.Image object>"
      ]
     },
     "metadata": {},
     "output_type": "display_data"
    },
    {
     "data": {
      "image/jpeg": "[encoded data removed]",
      "text/plain": [
       "<IPython.core.display.Image object>"
      ]
     },
     "metadata": {},
     "output_type": "display_data"
    },
    {
     "data": {
      "image/jpeg": "[encoded data removed]",
      "text/plain": [
       "<IPython.core.display.Image object>"
      ]
     },
     "metadata": {},
     "output_type": "display_data"
    },
    {
     "data": {
      "image/jpeg": "[encoded data removed]",
      "text/plain": [
       "<IPython.core.display.Image object>"
      ]
     },
     "metadata": {},
     "output_type": "display_data"
    },
    {
     "data": {
      "image/jpeg": "[encoded data removed]",
      "text/plain": [
       "<IPython.core.display.Image object>"
      ]
     },
     "metadata": {},
     "output_type": "display_data"
    },
    {
     "data": {
      "image/jpeg": "[encoded data removed]",
      "text/plain": [
       "<IPython.core.display.Image object>"
      ]
     },
     "metadata": {},
     "output_type": "display_data"
    }
   ],
   "source": [
    "list_url_0 = list(df_products_out[df_products_out['index'].isin(INDEX_0)]['url_imagen'])\n",
    "display_multiple_img(list_url_0)"
   ]
  },
  {
   "cell_type": "code",
   "execution_count": null,
   "id": "293aa6c8",
   "metadata": {},
   "outputs": [],
   "source": []
  }
 ],
 "metadata": {
  "kernelspec": {
   "display_name": "Python 3 (ipykernel)",
   "language": "python",
   "name": "python3"
  },
  "language_info": {
   "codemirror_mode": {
    "name": "ipython",
    "version": 3
   },
   "file_extension": ".py",
   "mimetype": "text/x-python",
   "name": "python",
   "nbconvert_exporter": "python",
   "pygments_lexer": "ipython3",
   "version": "3.10.5"
  }
 },
 "nbformat": 4,
 "nbformat_minor": 5
}
